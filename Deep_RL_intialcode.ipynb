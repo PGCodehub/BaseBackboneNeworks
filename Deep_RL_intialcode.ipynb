{
  "nbformat": 4,
  "nbformat_minor": 0,
  "metadata": {
    "colab": {
      "name": "Deep_RL_intialcode.ipynb",
      "version": "0.3.2",
      "provenance": [],
      "collapsed_sections": [
        "Mr4EMkgrXY8H"
      ],
      "toc_visible": true,
      "include_colab_link": true
    },
    "kernelspec": {
      "name": "python3",
      "display_name": "Python 3"
    },
    "accelerator": "GPU"
  },
  "cells": [
    {
      "cell_type": "markdown",
      "metadata": {
        "id": "view-in-github",
        "colab_type": "text"
      },
      "source": [
        "<a href=\"https://colab.research.google.com/github/PGCodehub/BasicNeworks/blob/master/Deep_RL_intialcode.ipynb\" target=\"_parent\"><img src=\"https://colab.research.google.com/assets/colab-badge.svg\" alt=\"Open In Colab\"/></a>"
      ]
    },
    {
      "metadata": {
        "id": "Mr4EMkgrXY8H",
        "colab_type": "text"
      },
      "cell_type": "markdown",
      "source": [
        "#Intial Codes for colab\n"
      ]
    },
    {
      "metadata": {
        "id": "dgrkhxluUilB",
        "colab_type": "code",
        "colab": {}
      },
      "cell_type": "code",
      "source": [
        ""
      ],
      "execution_count": 0,
      "outputs": []
    },
    {
      "metadata": {
        "id": "lfTAUacyW1DH",
        "colab_type": "code",
        "colab": {
          "base_uri": "https://localhost:8080/",
          "height": 292
        },
        "outputId": "a3f96eb5-28c4-476f-c2f8-fe8f2aa6017a"
      },
      "cell_type": "code",
      "source": [
        "from PIL import Image\n",
        "\n",
        "#workaround \n",
        "\n",
        "!pip install --no-cache-dir -I pillow\n",
        "from PIL import Image\n",
        "def register_extension(id, extension): Image.EXTENSION[extension.lower()] = id.upper()\n",
        "Image.register_extension = register_extension\n",
        "print(\"done!\")\n",
        "def register_extensions(id, extensions): \n",
        "  for extension in extensions: register_extension(id, extension)\n",
        "Image.register_extensions = register_extensions\n",
        "\n",
        "print(\"done!\")\n"
      ],
      "execution_count": 1,
      "outputs": [
        {
          "output_type": "stream",
          "text": [
            "Collecting pillow\n",
            "\u001b[?25l  Downloading https://files.pythonhosted.org/packages/85/5e/e91792f198bbc5a0d7d3055ad552bc4062942d27eaf75c3e2783cf64eae5/Pillow-5.4.1-cp36-cp36m-manylinux1_x86_64.whl (2.0MB)\n",
            "\r\u001b[K    0% |▏                               | 10kB 14.1MB/s eta 0:00:01\r\u001b[K    1% |▎                               | 20kB 1.7MB/s eta 0:00:02\r\u001b[K    1% |▌                               | 30kB 2.6MB/s eta 0:00:01\r\u001b[K    2% |▋                               | 40kB 1.7MB/s eta 0:00:02\r\u001b[K    2% |▉                               | 51kB 2.1MB/s eta 0:00:01\r\u001b[K    3% |█                               | 61kB 2.5MB/s eta 0:00:01\r\u001b[K    3% |█▏                              | 71kB 2.9MB/s eta 0:00:01\r\u001b[K    4% |█▎                              | 81kB 3.2MB/s eta 0:00:01\r\u001b[K    4% |█▌                              | 92kB 3.6MB/s eta 0:00:01\r\u001b[K    5% |█▋                              | 102kB 2.7MB/s eta 0:00:01\r\u001b[K    5% |█▉                              | 112kB 2.8MB/s eta 0:00:01\r\u001b[K    6% |██                              | 122kB 3.9MB/s eta 0:00:01\r\u001b[K    6% |██▏                             | 133kB 4.0MB/s eta 0:00:01\r\u001b[K    7% |██▎                             | 143kB 7.6MB/s eta 0:00:01\r\u001b[K    7% |██▌                             | 153kB 7.6MB/s eta 0:00:01\r\u001b[K    8% |██▋                             | 163kB 7.6MB/s eta 0:00:01\r\u001b[K    8% |██▉                             | 174kB 7.6MB/s eta 0:00:01\r\u001b[K    9% |███                             | 184kB 7.6MB/s eta 0:00:01\r\u001b[K    9% |███▏                            | 194kB 7.6MB/s eta 0:00:01\r\u001b[K    10% |███▎                            | 204kB 61.0MB/s eta 0:00:01\r\u001b[K    10% |███▌                            | 215kB 8.2MB/s eta 0:00:01\r\u001b[K    11% |███▋                            | 225kB 8.2MB/s eta 0:00:01\r\u001b[K    11% |███▉                            | 235kB 8.1MB/s eta 0:00:01\r\u001b[K    12% |████                            | 245kB 8.1MB/s eta 0:00:01\r\u001b[K    12% |████▏                           | 256kB 8.1MB/s eta 0:00:01\r\u001b[K    13% |████▎                           | 266kB 8.1MB/s eta 0:00:01\r\u001b[K    13% |████▌                           | 276kB 8.1MB/s eta 0:00:01\r\u001b[K    14% |████▋                           | 286kB 8.1MB/s eta 0:00:01\r\u001b[K    14% |████▉                           | 296kB 8.1MB/s eta 0:00:01\r\u001b[K    15% |█████                           | 307kB 8.1MB/s eta 0:00:01\r\u001b[K    16% |█████▏                          | 317kB 8.0MB/s eta 0:00:01\r\u001b[K    16% |█████▎                          | 327kB 8.0MB/s eta 0:00:01\r\u001b[K    17% |█████▌                          | 337kB 8.0MB/s eta 0:00:01\r\u001b[K    17% |█████▋                          | 348kB 8.0MB/s eta 0:00:01\r\u001b[K    18% |█████▉                          | 358kB 8.0MB/s eta 0:00:01\r\u001b[K    18% |██████                          | 368kB 8.0MB/s eta 0:00:01\r\u001b[K    19% |██████▏                         | 378kB 8.0MB/s eta 0:00:01\r\u001b[K    19% |██████▎                         | 389kB 8.0MB/s eta 0:00:01\r\u001b[K    20% |██████▌                         | 399kB 8.0MB/s eta 0:00:01\r\u001b[K    20% |██████▋                         | 409kB 8.0MB/s eta 0:00:01\r\u001b[K    21% |██████▉                         | 419kB 63.6MB/s eta 0:00:01\r\u001b[K    21% |███████                         | 430kB 66.3MB/s eta 0:00:01\r\u001b[K    22% |███████                         | 440kB 68.9MB/s eta 0:00:01\r\u001b[K    22% |███████▎                        | 450kB 70.2MB/s eta 0:00:01\r\u001b[K    23% |███████▍                        | 460kB 70.5MB/s eta 0:00:01\r\u001b[K    23% |███████▋                        | 471kB 71.8MB/s eta 0:00:01\r\u001b[K    24% |███████▊                        | 481kB 72.5MB/s eta 0:00:01\r\u001b[K    24% |████████                        | 491kB 71.0MB/s eta 0:00:01\r\u001b[K    25% |████████                        | 501kB 71.0MB/s eta 0:00:01\r\u001b[K    25% |████████▎                       | 512kB 70.9MB/s eta 0:00:01\r\u001b[K    26% |████████▍                       | 522kB 70.8MB/s eta 0:00:01\r\u001b[K    26% |████████▋                       | 532kB 73.0MB/s eta 0:00:01\r\u001b[K    27% |████████▊                       | 542kB 72.4MB/s eta 0:00:01\r\u001b[K    27% |█████████                       | 552kB 73.1MB/s eta 0:00:01\r\u001b[K    28% |█████████                       | 563kB 73.9MB/s eta 0:00:01\r\u001b[K    28% |█████████▎                      | 573kB 72.2MB/s eta 0:00:01\r\u001b[K    29% |█████████▍                      | 583kB 72.1MB/s eta 0:00:01\r\u001b[K    29% |█████████▋                      | 593kB 73.3MB/s eta 0:00:01\r\u001b[K    30% |█████████▊                      | 604kB 74.1MB/s eta 0:00:01\r\u001b[K    30% |██████████                      | 614kB 74.3MB/s eta 0:00:01\r\u001b[K    31% |██████████                      | 624kB 73.6MB/s eta 0:00:01\r\u001b[K    32% |██████████▎                     | 634kB 74.1MB/s eta 0:00:01\r\u001b[K    32% |██████████▍                     | 645kB 10.8MB/s eta 0:00:01\r\u001b[K    33% |██████████▋                     | 655kB 10.6MB/s eta 0:00:01\r\u001b[K    33% |██████████▊                     | 665kB 10.6MB/s eta 0:00:01\r\u001b[K    34% |███████████                     | 675kB 10.5MB/s eta 0:00:01\r\u001b[K    34% |███████████                     | 686kB 10.5MB/s eta 0:00:01\r\u001b[K    35% |███████████▎                    | 696kB 10.5MB/s eta 0:00:01\r\u001b[K    35% |███████████▍                    | 706kB 10.4MB/s eta 0:00:01\r\u001b[K    36% |███████████▋                    | 716kB 10.4MB/s eta 0:00:01\r\u001b[K    36% |███████████▊                    | 727kB 10.4MB/s eta 0:00:01\r\u001b[K    37% |████████████                    | 737kB 10.4MB/s eta 0:00:01\r\u001b[K    37% |████████████                    | 747kB 57.8MB/s eta 0:00:01\r\u001b[K    38% |████████████▎                   | 757kB 63.2MB/s eta 0:00:01\r\u001b[K    38% |████████████▍                   | 768kB 66.1MB/s eta 0:00:01\r\u001b[K    39% |████████████▋                   | 778kB 68.3MB/s eta 0:00:01\r\u001b[K    39% |████████████▊                   | 788kB 68.8MB/s eta 0:00:01\r\u001b[K    40% |█████████████                   | 798kB 70.7MB/s eta 0:00:01\r\u001b[K    40% |█████████████                   | 808kB 71.5MB/s eta 0:00:01\r\u001b[K    41% |█████████████▎                  | 819kB 70.5MB/s eta 0:00:01\r\u001b[K    41% |█████████████▍                  | 829kB 70.5MB/s eta 0:00:01\r\u001b[K    42% |█████████████▋                  | 839kB 70.2MB/s eta 0:00:01\r\u001b[K    42% |█████████████▊                  | 849kB 70.1MB/s eta 0:00:01\r\u001b[K    43% |█████████████▉                  | 860kB 71.2MB/s eta 0:00:01\r\u001b[K    43% |██████████████                  | 870kB 70.9MB/s eta 0:00:01\r\u001b[K    44% |██████████████▏                 | 880kB 71.9MB/s eta 0:00:01\r\u001b[K    44% |██████████████▍                 | 890kB 72.0MB/s eta 0:00:01\r\u001b[K    45% |██████████████▌                 | 901kB 70.3MB/s eta 0:00:01\r\u001b[K    45% |██████████████▊                 | 911kB 70.4MB/s eta 0:00:01\r\u001b[K    46% |██████████████▉                 | 921kB 70.8MB/s eta 0:00:01\r\u001b[K    47% |███████████████                 | 931kB 71.7MB/s eta 0:00:01\r\u001b[K    47% |███████████████▏                | 942kB 72.1MB/s eta 0:00:01\r\u001b[K    48% |███████████████▍                | 952kB 71.3MB/s eta 0:00:01\r\u001b[K    48% |███████████████▌                | 962kB 71.9MB/s eta 0:00:01\r\u001b[K    49% |███████████████▊                | 972kB 71.3MB/s eta 0:00:01\r\u001b[K    49% |███████████████▉                | 983kB 69.9MB/s eta 0:00:01\r\u001b[K    50% |████████████████                | 993kB 70.4MB/s eta 0:00:01\r\u001b[K    50% |████████████████▏               | 1.0MB 71.6MB/s eta 0:00:01\r\u001b[K    51% |████████████████▍               | 1.0MB 71.8MB/s eta 0:00:01\r\u001b[K    51% |████████████████▌               | 1.0MB 72.1MB/s eta 0:00:01\r\u001b[K    52% |████████████████▊               | 1.0MB 71.3MB/s eta 0:00:01\r\u001b[K    52% |████████████████▉               | 1.0MB 71.2MB/s eta 0:00:01\r\u001b[K    53% |█████████████████               | 1.1MB 12.2MB/s eta 0:00:01\r\u001b[K    53% |█████████████████▏              | 1.1MB 11.9MB/s eta 0:00:01\r\u001b[K    54% |█████████████████▍              | 1.1MB 11.7MB/s eta 0:00:01\r\u001b[K    54% |█████████████████▌              | 1.1MB 11.5MB/s eta 0:00:01\r\u001b[K    55% |█████████████████▊              | 1.1MB 11.5MB/s eta 0:00:01\r\u001b[K    55% |█████████████████▉              | 1.1MB 11.5MB/s eta 0:00:01\r\u001b[K    56% |██████████████████              | 1.1MB 11.4MB/s eta 0:00:01\r\u001b[K    56% |██████████████████▏             | 1.1MB 11.4MB/s eta 0:00:01\r\u001b[K    57% |██████████████████▍             | 1.1MB 11.4MB/s eta 0:00:01\r\u001b[K    57% |██████████████████▌             | 1.1MB 11.4MB/s eta 0:00:01\r\u001b[K    58% |██████████████████▊             | 1.2MB 49.7MB/s eta 0:00:01\r\u001b[K    58% |██████████████████▉             | 1.2MB 55.7MB/s eta 0:00:01\r\u001b[K    59% |███████████████████             | 1.2MB 60.0MB/s eta 0:00:01\r\u001b[K    59% |███████████████████▏            | 1.2MB 65.7MB/s eta 0:00:01\r\u001b[K    60% |███████████████████▍            | 1.2MB 67.9MB/s eta 0:00:01\r\u001b[K    60% |███████████████████▌            | 1.2MB 68.0MB/s eta 0:00:01\r\u001b[K    61% |███████████████████▊            | 1.2MB 68.2MB/s eta 0:00:01\r\u001b[K    61% |███████████████████▉            | 1.2MB 68.8MB/s eta 0:00:01\r\u001b[K    62% |████████████████████            | 1.2MB 69.0MB/s eta 0:00:01\r\u001b[K    63% |████████████████████▏           | 1.2MB 70.1MB/s eta 0:00:01\r\u001b[K    63% |████████████████████▍           | 1.3MB 70.2MB/s eta 0:00:01\r\u001b[K    64% |████████████████████▌           | 1.3MB 71.2MB/s eta 0:00:01\r\u001b[K    64% |████████████████████▋           | 1.3MB 71.0MB/s eta 0:00:01\r\u001b[K    65% |████████████████████▉           | 1.3MB 69.6MB/s eta 0:00:01\r\u001b[K    65% |█████████████████████           | 1.3MB 70.1MB/s eta 0:00:01\r\u001b[K    66% |█████████████████████▏          | 1.3MB 70.2MB/s eta 0:00:01\r\u001b[K    66% |█████████████████████▎          | 1.3MB 71.2MB/s eta 0:00:01\r\u001b[K    67% |█████████████████████▌          | 1.3MB 71.3MB/s eta 0:00:01\r\u001b[K    67% |█████████████████████▋          | 1.3MB 70.7MB/s eta 0:00:01\r\u001b[K    68% |█████████████████████▉          | 1.4MB 70.7MB/s eta 0:00:01\r\u001b[K    68% |██████████████████████          | 1.4MB 70.3MB/s eta 0:00:01\r\u001b[K    69% |██████████████████████▏         | 1.4MB 69.2MB/s eta 0:00:01\r\u001b[K    69% |██████████████████████▎         | 1.4MB 70.2MB/s eta 0:00:01\r\u001b[K    70% |██████████████████████▌         | 1.4MB 71.3MB/s eta 0:00:01\r\u001b[K    70% |██████████████████████▋         | 1.4MB 71.2MB/s eta 0:00:01\r\u001b[K    71% |██████████████████████▉         | 1.4MB 71.3MB/s eta 0:00:01\r\u001b[K    71% |███████████████████████         | 1.4MB 12.3MB/s eta 0:00:01\r\u001b[K    72% |███████████████████████▏        | 1.4MB 12.2MB/s eta 0:00:01\r\u001b[K    72% |███████████████████████▎        | 1.4MB 12.0MB/s eta 0:00:01\r\u001b[K    73% |███████████████████████▌        | 1.5MB 11.9MB/s eta 0:00:01\r\u001b[K    73% |███████████████████████▋        | 1.5MB 11.9MB/s eta 0:00:01\r\u001b[K    74% |███████████████████████▉        | 1.5MB 11.9MB/s eta 0:00:01\r\u001b[K    74% |████████████████████████        | 1.5MB 11.8MB/s eta 0:00:01\r\u001b[K    75% |████████████████████████▏       | 1.5MB 11.8MB/s eta 0:00:01\r\u001b[K    75% |████████████████████████▎       | 1.5MB 11.8MB/s eta 0:00:01\r\u001b[K    76% |████████████████████████▌       | 1.5MB 11.8MB/s eta 0:00:01\r\u001b[K    76% |████████████████████████▋       | 1.5MB 56.1MB/s eta 0:00:01\r\u001b[K    77% |████████████████████████▉       | 1.5MB 59.7MB/s eta 0:00:01\r\u001b[K    78% |█████████████████████████       | 1.5MB 65.3MB/s eta 0:00:01\r\u001b[K    78% |█████████████████████████▏      | 1.6MB 68.4MB/s eta 0:00:01\r\u001b[K    79% |█████████████████████████▎      | 1.6MB 68.8MB/s eta 0:00:01\r\u001b[K    79% |█████████████████████████▌      | 1.6MB 69.0MB/s eta 0:00:01\r\u001b[K    80% |█████████████████████████▋      | 1.6MB 69.7MB/s eta 0:00:01\r\u001b[K    80% |█████████████████████████▉      | 1.6MB 70.8MB/s eta 0:00:01\r\u001b[K    81% |██████████████████████████      | 1.6MB 71.2MB/s eta 0:00:01\r\u001b[K    81% |██████████████████████████▏     | 1.6MB 69.9MB/s eta 0:00:01\r\u001b[K    82% |██████████████████████████▎     | 1.6MB 70.2MB/s eta 0:00:01\r\u001b[K    82% |██████████████████████████▌     | 1.6MB 70.3MB/s eta 0:00:01\r\u001b[K    83% |██████████████████████████▋     | 1.6MB 70.2MB/s eta 0:00:01\r\u001b[K    83% |██████████████████████████▉     | 1.7MB 71.6MB/s eta 0:00:01\r\u001b[K    84% |███████████████████████████     | 1.7MB 71.1MB/s eta 0:00:01\r\u001b[K    84% |███████████████████████████▏    | 1.7MB 71.7MB/s eta 0:00:01\r\u001b[K    85% |███████████████████████████▎    | 1.7MB 71.4MB/s eta 0:00:01\r\u001b[K    85% |███████████████████████████▍    | 1.7MB 70.2MB/s eta 0:00:01\r\u001b[K    86% |███████████████████████████▋    | 1.7MB 70.6MB/s eta 0:00:01\r\u001b[K    86% |███████████████████████████▊    | 1.7MB 71.3MB/s eta 0:00:01\r\u001b[K    87% |████████████████████████████    | 1.7MB 72.0MB/s eta 0:00:01\r\u001b[K    87% |████████████████████████████    | 1.7MB 72.3MB/s eta 0:00:01\r\u001b[K    88% |████████████████████████████▎   | 1.8MB 71.5MB/s eta 0:00:01\r\u001b[K    88% |████████████████████████████▍   | 1.8MB 71.5MB/s eta 0:00:01\r\u001b[K    89% |████████████████████████████▋   | 1.8MB 71.1MB/s eta 0:00:01\r\u001b[K    89% |████████████████████████████▊   | 1.8MB 70.0MB/s eta 0:00:01\r\u001b[K    90% |█████████████████████████████   | 1.8MB 71.0MB/s eta 0:00:01\r\u001b[K    90% |█████████████████████████████   | 1.8MB 71.9MB/s eta 0:00:01\r\u001b[K    91% |█████████████████████████████▎  | 1.8MB 72.0MB/s eta 0:00:01\r\u001b[K    91% |█████████████████████████████▍  | 1.8MB 72.1MB/s eta 0:00:01\r\u001b[K    92% |█████████████████████████████▋  | 1.8MB 68kB/s eta 0:00:03\r\u001b[K    92% |█████████████████████████████▊  | 1.8MB 68kB/s eta 0:00:03\r\u001b[K    93% |██████████████████████████████  | 1.9MB 68kB/s eta 0:00:02\r\u001b[K    94% |██████████████████████████████  | 1.9MB 68kB/s eta 0:00:02\r\u001b[K    94% |██████████████████████████████▎ | 1.9MB 68kB/s eta 0:00:02\r\u001b[K    95% |██████████████████████████████▍ | 1.9MB 68kB/s eta 0:00:02\r\u001b[K    95% |██████████████████████████████▋ | 1.9MB 68kB/s eta 0:00:02\r\u001b[K    96% |██████████████████████████████▊ | 1.9MB 68kB/s eta 0:00:02\r\u001b[K    96% |███████████████████████████████ | 1.9MB 68kB/s eta 0:00:01\r\u001b[K    97% |███████████████████████████████ | 1.9MB 68kB/s eta 0:00:01\r\u001b[K    97% |███████████████████████████████▎| 1.9MB 61.8MB/s eta 0:00:01\r\u001b[K    98% |███████████████████████████████▍| 1.9MB 64.4MB/s eta 0:00:01\r\u001b[K    98% |███████████████████████████████▋| 2.0MB 66.9MB/s eta 0:00:01\r\u001b[K    99% |███████████████████████████████▊| 2.0MB 68.3MB/s eta 0:00:01\r\u001b[K    99% |████████████████████████████████| 2.0MB 68.7MB/s eta 0:00:01\r\u001b[K    100% |████████████████████████████████| 2.0MB 66.3MB/s \n",
            "\u001b[31mimgaug 0.2.8 has requirement numpy>=1.15.0, but you'll have numpy 1.14.6 which is incompatible.\u001b[0m\n",
            "\u001b[31mfastai 1.0.49 has requirement numpy>=1.15, but you'll have numpy 1.14.6 which is incompatible.\u001b[0m\n",
            "\u001b[31malbumentations 0.1.12 has requirement imgaug<0.2.7,>=0.2.5, but you'll have imgaug 0.2.8 which is incompatible.\u001b[0m\n",
            "\u001b[?25hInstalling collected packages: pillow\n",
            "Successfully installed pillow-5.4.1\n"
          ],
          "name": "stdout"
        },
        {
          "output_type": "display_data",
          "data": {
            "application/vnd.colab-display-data+json": {
              "pip_warning": {
                "packages": [
                  "PIL"
                ]
              }
            }
          },
          "metadata": {
            "tags": []
          }
        },
        {
          "output_type": "stream",
          "text": [
            "done!\n",
            "done!\n"
          ],
          "name": "stdout"
        }
      ]
    },
    {
      "metadata": {
        "colab_type": "code",
        "id": "5aENg7nxWs-T",
        "colab": {
          "base_uri": "https://localhost:8080/",
          "height": 51
        },
        "outputId": "740c8314-b1d5-458c-9f17-b29471c981ee"
      },
      "cell_type": "code",
      "source": [
        "#PYDRIVE AND GOOGLE AUTHENTICATION CELL\n",
        "\n",
        "# Install the PyDrive wrapper & import libraries.\n",
        "# This only needs to be done once per notebook.\n",
        "!pip install -U -q PyDrive\n",
        "from pydrive.auth import GoogleAuth\n",
        "from pydrive.drive import GoogleDrive\n",
        "from google.colab import auth\n",
        "from oauth2client.client import GoogleCredentials\n",
        "\n",
        "# Authenticate and create the PyDrive client.\n",
        "# This only needs to be done once per notebook.\n",
        "auth.authenticate_user()\n",
        "gauth = GoogleAuth()\n",
        "gauth.credentials = GoogleCredentials.get_application_default()\n",
        "driveauth = GoogleDrive(gauth)"
      ],
      "execution_count": 1,
      "outputs": [
        {
          "output_type": "stream",
          "text": [
            "\u001b[?25l\r\u001b[K    1% |▎                               | 10kB 19.9MB/s eta 0:00:01\r\u001b[K    2% |▋                               | 20kB 1.8MB/s eta 0:00:01\r\u001b[K    3% |█                               | 30kB 2.6MB/s eta 0:00:01\r\u001b[K    4% |█▎                              | 40kB 1.7MB/s eta 0:00:01\r\u001b[K    5% |█▋                              | 51kB 2.1MB/s eta 0:00:01\r\u001b[K    6% |██                              | 61kB 2.5MB/s eta 0:00:01\r\u001b[K    7% |██▎                             | 71kB 2.8MB/s eta 0:00:01\r\u001b[K    8% |██▋                             | 81kB 3.2MB/s eta 0:00:01\r\u001b[K    9% |███                             | 92kB 2.5MB/s eta 0:00:01\r\u001b[K    10% |███▎                            | 102kB 2.7MB/s eta 0:00:01\r\u001b[K    11% |███▋                            | 112kB 2.7MB/s eta 0:00:01\r\u001b[K    12% |████                            | 122kB 3.9MB/s eta 0:00:01\r\u001b[K    13% |████▎                           | 133kB 3.9MB/s eta 0:00:01\r\u001b[K    14% |████▋                           | 143kB 7.3MB/s eta 0:00:01\r\u001b[K    15% |█████                           | 153kB 7.4MB/s eta 0:00:01\r\u001b[K    16% |█████▎                          | 163kB 7.4MB/s eta 0:00:01\r\u001b[K    17% |█████▋                          | 174kB 7.4MB/s eta 0:00:01\r\u001b[K    18% |██████                          | 184kB 7.4MB/s eta 0:00:01\r\u001b[K    19% |██████▎                         | 194kB 43.0MB/s eta 0:00:01\r\u001b[K    20% |██████▋                         | 204kB 38.7MB/s eta 0:00:01\r\u001b[K    21% |███████                         | 215kB 8.1MB/s eta 0:00:01\r\u001b[K    22% |███████▎                        | 225kB 8.1MB/s eta 0:00:01\r\u001b[K    23% |███████▋                        | 235kB 8.1MB/s eta 0:00:01\r\u001b[K    24% |████████                        | 245kB 8.2MB/s eta 0:00:01\r\u001b[K    25% |████████▎                       | 256kB 8.2MB/s eta 0:00:01\r\u001b[K    26% |████████▋                       | 266kB 8.0MB/s eta 0:00:01\r\u001b[K    27% |█████████                       | 276kB 8.1MB/s eta 0:00:01\r\u001b[K    29% |█████████▎                      | 286kB 8.1MB/s eta 0:00:01\r\u001b[K    30% |█████████▋                      | 296kB 8.1MB/s eta 0:00:01\r\u001b[K    31% |██████████                      | 307kB 8.3MB/s eta 0:00:01\r\u001b[K    32% |██████████▎                     | 317kB 45.3MB/s eta 0:00:01\r\u001b[K    33% |██████████▋                     | 327kB 45.7MB/s eta 0:00:01\r\u001b[K    34% |███████████                     | 337kB 46.6MB/s eta 0:00:01\r\u001b[K    35% |███████████▎                    | 348kB 41.7MB/s eta 0:00:01\r\u001b[K    36% |███████████▋                    | 358kB 42.0MB/s eta 0:00:01\r\u001b[K    37% |████████████                    | 368kB 48.2MB/s eta 0:00:01\r\u001b[K    38% |████████████▎                   | 378kB 47.9MB/s eta 0:00:01\r\u001b[K    39% |████████████▋                   | 389kB 47.9MB/s eta 0:00:01\r\u001b[K    40% |█████████████                   | 399kB 9.6MB/s eta 0:00:01\r\u001b[K    41% |█████████████▎                  | 409kB 9.1MB/s eta 0:00:01\r\u001b[K    42% |█████████████▋                  | 419kB 9.1MB/s eta 0:00:01\r\u001b[K    43% |██████████████                  | 430kB 9.1MB/s eta 0:00:01\r\u001b[K    44% |██████████████▎                 | 440kB 9.1MB/s eta 0:00:01\r\u001b[K    45% |██████████████▋                 | 450kB 9.2MB/s eta 0:00:01\r\u001b[K    46% |███████████████                 | 460kB 9.2MB/s eta 0:00:01\r\u001b[K    47% |███████████████▎                | 471kB 9.2MB/s eta 0:00:01\r\u001b[K    48% |███████████████▋                | 481kB 9.2MB/s eta 0:00:01\r\u001b[K    49% |████████████████                | 491kB 9.2MB/s eta 0:00:01\r\u001b[K    50% |████████████████▎               | 501kB 38.3MB/s eta 0:00:01\r\u001b[K    51% |████████████████▋               | 512kB 45.3MB/s eta 0:00:01\r\u001b[K    52% |█████████████████               | 522kB 45.5MB/s eta 0:00:01\r\u001b[K    53% |█████████████████▎              | 532kB 45.3MB/s eta 0:00:01\r\u001b[K    54% |█████████████████▋              | 542kB 45.7MB/s eta 0:00:01\r\u001b[K    55% |██████████████████              | 552kB 49.2MB/s eta 0:00:01\r\u001b[K    57% |██████████████████▎             | 563kB 49.4MB/s eta 0:00:01\r\u001b[K    58% |██████████████████▋             | 573kB 47.8MB/s eta 0:00:01\r\u001b[K    59% |███████████████████             | 583kB 47.8MB/s eta 0:00:01\r\u001b[K    60% |███████████████████▎            | 593kB 49.1MB/s eta 0:00:01\r\u001b[K    61% |███████████████████▋            | 604kB 51.0MB/s eta 0:00:01\r\u001b[K    62% |████████████████████            | 614kB 55.6MB/s eta 0:00:01\r\u001b[K    63% |████████████████████▎           | 624kB 55.3MB/s eta 0:00:01\r\u001b[K    64% |████████████████████▋           | 634kB 55.2MB/s eta 0:00:01\r\u001b[K    65% |█████████████████████           | 645kB 53.7MB/s eta 0:00:01\r\u001b[K    66% |█████████████████████▎          | 655kB 11.4MB/s eta 0:00:01\r\u001b[K    67% |█████████████████████▋          | 665kB 10.6MB/s eta 0:00:01\r\u001b[K    68% |██████████████████████          | 675kB 10.6MB/s eta 0:00:01\r\u001b[K    69% |██████████████████████▎         | 686kB 10.7MB/s eta 0:00:01\r\u001b[K    70% |██████████████████████▋         | 696kB 10.6MB/s eta 0:00:01\r\u001b[K    71% |███████████████████████         | 706kB 10.6MB/s eta 0:00:01\r\u001b[K    72% |███████████████████████▎        | 716kB 10.6MB/s eta 0:00:01\r\u001b[K    73% |███████████████████████▋        | 727kB 10.6MB/s eta 0:00:01\r\u001b[K    74% |████████████████████████        | 737kB 10.6MB/s eta 0:00:01\r\u001b[K    75% |████████████████████████▎       | 747kB 10.6MB/s eta 0:00:01\r\u001b[K    76% |████████████████████████▋       | 757kB 38.6MB/s eta 0:00:01\r\u001b[K    77% |████████████████████████▉       | 768kB 50.7MB/s eta 0:00:01\r\u001b[K    78% |█████████████████████████▏      | 778kB 51.1MB/s eta 0:00:01\r\u001b[K    79% |█████████████████████████▌      | 788kB 50.7MB/s eta 0:00:01\r\u001b[K    80% |█████████████████████████▉      | 798kB 50.9MB/s eta 0:00:01\r\u001b[K    81% |██████████████████████████▏     | 808kB 49.9MB/s eta 0:00:01\r\u001b[K    82% |██████████████████████████▌     | 819kB 49.9MB/s eta 0:00:01\r\u001b[K    83% |██████████████████████████▉     | 829kB 51.3MB/s eta 0:00:01\r\u001b[K    85% |███████████████████████████▏    | 839kB 51.7MB/s eta 0:00:01\r\u001b[K    86% |███████████████████████████▌    | 849kB 51.9MB/s eta 0:00:01\r\u001b[K    87% |███████████████████████████▉    | 860kB 46.4MB/s eta 0:00:01\r\u001b[K    88% |████████████████████████████▏   | 870kB 46.6MB/s eta 0:00:01\r\u001b[K    89% |████████████████████████████▌   | 880kB 47.5MB/s eta 0:00:01\r\u001b[K    90% |████████████████████████████▉   | 890kB 47.9MB/s eta 0:00:01\r\u001b[K    91% |█████████████████████████████▏  | 901kB 46.6MB/s eta 0:00:01\r\u001b[K    92% |█████████████████████████████▌  | 911kB 47.4MB/s eta 0:00:01\r\u001b[K    93% |█████████████████████████████▉  | 921kB 46.4MB/s eta 0:00:01\r\u001b[K    94% |██████████████████████████████▏ | 931kB 46.8MB/s eta 0:00:01\r\u001b[K    95% |██████████████████████████████▌ | 942kB 47.1MB/s eta 0:00:01\r\u001b[K    96% |██████████████████████████████▉ | 952kB 47.4MB/s eta 0:00:01\r\u001b[K    97% |███████████████████████████████▏| 962kB 54.5MB/s eta 0:00:01\r\u001b[K    98% |███████████████████████████████▌| 972kB 53.7MB/s eta 0:00:01\r\u001b[K    99% |███████████████████████████████▉| 983kB 52.3MB/s eta 0:00:01\r\u001b[K    100% |████████████████████████████████| 993kB 18.7MB/s \n",
            "\u001b[?25h  Building wheel for PyDrive (setup.py) ... \u001b[?25ldone\n",
            "\u001b[?25h"
          ],
          "name": "stdout"
        }
      ]
    },
    {
      "metadata": {
        "id": "WgSKi2RGF2mf",
        "colab_type": "code",
        "outputId": "e91e1c23-06e8-482a-f77c-442d23b6f0c0",
        "colab": {
          "base_uri": "https://localhost:8080/",
          "height": 122
        }
      },
      "cell_type": "code",
      "source": [
        "\n",
        "from google.colab import drive\n",
        "drive.mount('/content/gdrive')"
      ],
      "execution_count": 5,
      "outputs": [
        {
          "output_type": "stream",
          "text": [
            "Go to this URL in a browser: https://accounts.google.com/o/oauth2/auth?client_id=947318989803-6bn6qk8qdgf4n4g3pfee6491hc0brc4i.apps.googleusercontent.com&redirect_uri=urn%3Aietf%3Awg%3Aoauth%3A2.0%3Aoob&scope=email%20https%3A%2F%2Fwww.googleapis.com%2Fauth%2Fdocs.test%20https%3A%2F%2Fwww.googleapis.com%2Fauth%2Fdrive%20https%3A%2F%2Fwww.googleapis.com%2Fauth%2Fdrive.photos.readonly%20https%3A%2F%2Fwww.googleapis.com%2Fauth%2Fpeopleapi.readonly&response_type=code\n",
            "\n",
            "Enter your authorization code:\n",
            "··········\n",
            "Mounted at /content/gdrive\n"
          ],
          "name": "stdout"
        }
      ]
    },
    {
      "metadata": {
        "id": "rGcwgdqXGXTB",
        "colab_type": "code",
        "colab": {}
      },
      "cell_type": "code",
      "source": [
        "root_path = '/content/gdrive/My Drive/'  #change dir to your project folder\n"
      ],
      "execution_count": 0,
      "outputs": []
    },
    {
      "metadata": {
        "id": "aJ8ABGYhXOr-",
        "colab_type": "code",
        "colab": {}
      },
      "cell_type": "code",
      "source": [
        ""
      ],
      "execution_count": 0,
      "outputs": []
    },
    {
      "metadata": {
        "id": "XBw3t6bf4kgJ",
        "colab_type": "code",
        "colab": {
          "base_uri": "https://localhost:8080/",
          "height": 68
        },
        "outputId": "1dba01b0-2b08-4ba5-efc3-b37b333d8dcc"
      },
      "cell_type": "code",
      "source": [
        "#PYTORCH CELL (TO RUN PYTORCH)\n",
        "\n",
        "# http://pytorch.org/\n",
        "from os import path\n",
        "from wheel.pep425tags import get_abbr_impl, get_impl_ver, get_abi_tag\n",
        "platform = '{}{}-{}'.format(get_abbr_impl(), get_impl_ver(), get_abi_tag())\n",
        "\n",
        "accelerator = 'cu90' if path.exists('/opt/bin/nvidia-smi') else 'cpu'\n",
        "\n",
        "\n",
        "\n",
        "!pip install -q http://download.pytorch.org/whl/{accelerator}/torch-0.4.1-{platform}-linux_x86_64.whl torchvision"
      ],
      "execution_count": 3,
      "outputs": [
        {
          "output_type": "stream",
          "text": [
            "\u001b[K    100% |████████████████████████████████| 519.5MB 54.8MB/s \n",
            "\u001b[31mfastai 1.0.49 has requirement numpy>=1.15, but you'll have numpy 1.14.6 which is incompatible.\u001b[0m\n",
            "\u001b[31mfastai 1.0.49 has requirement torch>=1.0.0, but you'll have torch 0.4.1 which is incompatible.\u001b[0m\n",
            "\u001b[?25h"
          ],
          "name": "stdout"
        }
      ]
    },
    {
      "metadata": {
        "id": "-qoCgJPy3VVA",
        "colab_type": "code",
        "colab": {}
      },
      "cell_type": "code",
      "source": [
        "# Imports here\n",
        "import torch \n",
        "from torch import nn, optim\n",
        "import torch.nn.functional as F\n",
        "from torchvision import datasets, transforms, models\n",
        "\n",
        "import numpy as np\n",
        "import matplotlib.pyplot as plt\n",
        "\n",
        "%matplotlib inline\n",
        "\n",
        "from PIL import Image\n",
        "\n"
      ],
      "execution_count": 0,
      "outputs": []
    },
    {
      "metadata": {
        "id": "QA1pxgeHYwcB",
        "colab_type": "code",
        "colab": {}
      },
      "cell_type": "code",
      "source": [
        ""
      ],
      "execution_count": 0,
      "outputs": []
    },
    {
      "metadata": {
        "id": "j3R7vQqSZKDz",
        "colab_type": "text"
      },
      "cell_type": "markdown",
      "source": [
        "#Intial code for RL from Udacity Github Method 1"
      ]
    },
    {
      "metadata": {
        "id": "xgjJv4qFZT5q",
        "colab_type": "code",
        "colab": {
          "base_uri": "https://localhost:8080/",
          "height": 6548
        },
        "outputId": "78905113-159a-4851-f8c3-97f89607755f"
      },
      "cell_type": "code",
      "source": [
        "!sudo apt-get install -y python-numpy python-dev cmake zlib1g-dev libjpeg-dev ffmpeg xvfb xorg-dev python-opengl libboost-all-dev libsdl2-dev swig"
      ],
      "execution_count": 6,
      "outputs": [
        {
          "output_type": "stream",
          "text": [
            "\rReading package lists... 0%\r\rReading package lists... 0%\r\rReading package lists... 0%\r\rReading package lists... 8%\r\rReading package lists... 8%\r\rReading package lists... 8%\r\rReading package lists... 8%\r\rReading package lists... 73%\r\rReading package lists... 75%\r\rReading package lists... 75%\r\rReading package lists... 76%\r\rReading package lists... 76%\r\rReading package lists... 81%\r\rReading package lists... 81%\r\rReading package lists... 82%\r\rReading package lists... 82%\r\rReading package lists... 90%\r\rReading package lists... 90%\r\rReading package lists... 90%\r\rReading package lists... 90%\r\rReading package lists... 90%\r\rReading package lists... 90%\r\rReading package lists... 90%\r\rReading package lists... 90%\r\rReading package lists... 92%\r\rReading package lists... 92%\r\rReading package lists... 92%\r\rReading package lists... 92%\r\rReading package lists... 93%\r\rReading package lists... 93%\r\rReading package lists... 93%\r\rReading package lists... 93%\r\rReading package lists... 94%\r\rReading package lists... 94%\r\rReading package lists... 94%\r\rReading package lists... 94%\r\rReading package lists... 94%\r\rReading package lists... 94%\r\rReading package lists... 98%\r\rReading package lists... 98%\r\rReading package lists... 98%\r\rReading package lists... 98%\r\rReading package lists... Done\r\n",
            "\rBuilding dependency tree... 0%\r\rBuilding dependency tree... 0%\r\rBuilding dependency tree... 50%\r\rBuilding dependency tree... 50%\r\rBuilding dependency tree       \r\n",
            "\rReading state information... 0%\r\rReading state information... 0%\r\rReading state information... Done\r\n",
            "cmake is already the newest version (3.10.2-1ubuntu2).\n",
            "libjpeg-dev is already the newest version (8c-2ubuntu8).\n",
            "libjpeg-dev set to manually installed.\n",
            "python-dev is already the newest version (2.7.15~rc1-1).\n",
            "python-numpy is already the newest version (1:1.13.3-2ubuntu1).\n",
            "python-numpy set to manually installed.\n",
            "zlib1g-dev is already the newest version (1:1.2.11.dfsg-0ubuntu2).\n",
            "zlib1g-dev set to manually installed.\n",
            "libboost-all-dev is already the newest version (1.65.1.0ubuntu1).\n",
            "ffmpeg is already the newest version (7:3.4.4-0ubuntu0.18.04.1).\n",
            "The following package was automatically installed and is no longer required:\n",
            "  libnvidia-common-410\n",
            "Use 'sudo apt autoremove' to remove it.\n",
            "The following additional packages will be installed:\n",
            "  gir1.2-ibus-1.0 libcapnp-0.6.1 libdbus-1-dev libdmx-dev libdmx1\n",
            "  libfontenc-dev libfs-dev libfs6 libibus-1.0-5 libibus-1.0-dev\n",
            "  libmirclient-dev libmirclient9 libmircommon-dev libmircommon7\n",
            "  libmircookie-dev libmircookie2 libmircore-dev libmircore1 libmirprotobuf3\n",
            "  libpciaccess-dev libpixman-1-dev libprotobuf-dev libprotobuf-lite10\n",
            "  libpulse-dev libpulse-mainloop-glib0 libsndio-dev libudev-dev libxaw7-dev\n",
            "  libxcomposite-dev libxcursor-dev libxfont-dev libxinerama-dev\n",
            "  libxkbcommon-dev libxkbfile-dev libxmuu-dev libxpm-dev libxrandr-dev\n",
            "  libxres-dev libxres1 libxtst-dev libxv-dev libxvmc-dev libxvmc1\n",
            "  libxxf86dga-dev libxxf86dga1 mir-client-platform-mesa-dev swig3.0\n",
            "  x11proto-composite-dev x11proto-dri2-dev x11proto-fonts-dev x11proto-gl-dev\n",
            "  x11proto-randr-dev x11proto-record-dev x11proto-render-dev\n",
            "  x11proto-resource-dev x11proto-xf86bigfont-dev x11proto-xf86dga-dev\n",
            "  x11proto-xinerama-dev xserver-xorg-dev\n",
            "Suggested packages:\n",
            "  libxaw-doc libgle3 swig-doc swig-examples swig3.0-examples swig3.0-doc\n",
            "The following NEW packages will be installed:\n",
            "  gir1.2-ibus-1.0 libcapnp-0.6.1 libdbus-1-dev libdmx-dev libdmx1\n",
            "  libfontenc-dev libfs-dev libfs6 libibus-1.0-5 libibus-1.0-dev\n",
            "  libmirclient-dev libmirclient9 libmircommon-dev libmircommon7\n",
            "  libmircookie-dev libmircookie2 libmircore-dev libmircore1 libmirprotobuf3\n",
            "  libpciaccess-dev libpixman-1-dev libprotobuf-dev libprotobuf-lite10\n",
            "  libpulse-dev libpulse-mainloop-glib0 libsdl2-dev libsndio-dev libudev-dev\n",
            "  libxaw7-dev libxcomposite-dev libxcursor-dev libxfont-dev libxinerama-dev\n",
            "  libxkbcommon-dev libxkbfile-dev libxmuu-dev libxpm-dev libxrandr-dev\n",
            "  libxres-dev libxres1 libxtst-dev libxv-dev libxvmc-dev libxvmc1\n",
            "  libxxf86dga-dev libxxf86dga1 mir-client-platform-mesa-dev python-opengl swig\n",
            "  swig3.0 x11proto-composite-dev x11proto-dri2-dev x11proto-fonts-dev\n",
            "  x11proto-gl-dev x11proto-randr-dev x11proto-record-dev x11proto-render-dev\n",
            "  x11proto-resource-dev x11proto-xf86bigfont-dev x11proto-xf86dga-dev\n",
            "  x11proto-xinerama-dev xorg-dev xserver-xorg-dev xvfb\n",
            "0 upgraded, 64 newly installed, 0 to remove and 6 not upgraded.\n",
            "Need to get 7,598 kB of archives.\n",
            "After this operation, 44.8 MB of additional disk space will be used.\n",
            "Get:1 http://archive.ubuntu.com/ubuntu bionic/main amd64 libdmx1 amd64 1:1.1.3-1 [10.4 kB]\n",
            "Get:2 http://archive.ubuntu.com/ubuntu bionic/main amd64 libxxf86dga1 amd64 2:1.1.4-1 [13.7 kB]\n",
            "Get:3 http://archive.ubuntu.com/ubuntu bionic/main amd64 libibus-1.0-5 amd64 1.5.17-3ubuntu4 [134 kB]\n",
            "Get:4 http://archive.ubuntu.com/ubuntu bionic/main amd64 gir1.2-ibus-1.0 amd64 1.5.17-3ubuntu4 [66.6 kB]\n",
            "Get:5 http://archive.ubuntu.com/ubuntu bionic/main amd64 libcapnp-0.6.1 amd64 0.6.1-1ubuntu1 [658 kB]\n",
            "Get:6 http://archive.ubuntu.com/ubuntu bionic/main amd64 libdbus-1-dev amd64 1.12.2-1ubuntu1 [165 kB]\n",
            "Get:7 http://archive.ubuntu.com/ubuntu bionic/main amd64 libdmx-dev amd64 1:1.1.3-1 [34.4 kB]\n",
            "Get:8 http://archive.ubuntu.com/ubuntu bionic/main amd64 libfontenc-dev amd64 1:1.1.3-1 [13.8 kB]\n",
            "Get:9 http://archive.ubuntu.com/ubuntu bionic/main amd64 libfs6 amd64 2:1.0.7-1 [22.5 kB]\n",
            "Get:10 http://archive.ubuntu.com/ubuntu bionic/main amd64 x11proto-fonts-dev all 2018.4-4 [2,620 B]\n",
            "Get:11 http://archive.ubuntu.com/ubuntu bionic/main amd64 libfs-dev amd64 2:1.0.7-1 [26.8 kB]\n",
            "Get:12 http://archive.ubuntu.com/ubuntu bionic/main amd64 libibus-1.0-dev amd64 1.5.17-3ubuntu4 [145 kB]\n",
            "Get:13 http://archive.ubuntu.com/ubuntu bionic/main amd64 libmircore1 amd64 0.31.1-0ubuntu1 [26.5 kB]\n",
            "Get:14 http://archive.ubuntu.com/ubuntu bionic/main amd64 libmircommon7 amd64 0.31.1-0ubuntu1 [73.9 kB]\n",
            "Get:15 http://archive.ubuntu.com/ubuntu bionic/main amd64 libprotobuf-lite10 amd64 3.0.0-9.1ubuntu1 [97.7 kB]\n",
            "Get:16 http://archive.ubuntu.com/ubuntu bionic/main amd64 libmirprotobuf3 amd64 0.31.1-0ubuntu1 [127 kB]\n",
            "Get:17 http://archive.ubuntu.com/ubuntu bionic/main amd64 libmirclient9 amd64 0.31.1-0ubuntu1 [199 kB]\n",
            "Get:18 http://archive.ubuntu.com/ubuntu bionic/main amd64 libmircore-dev amd64 0.31.1-0ubuntu1 [21.7 kB]\n",
            "Get:19 http://archive.ubuntu.com/ubuntu bionic/main amd64 libprotobuf-dev amd64 3.0.0-9.1ubuntu1 [959 kB]\n",
            "Get:20 http://archive.ubuntu.com/ubuntu bionic-updates/main amd64 libxkbcommon-dev amd64 0.8.0-1ubuntu0.1 [308 kB]\n",
            "Get:21 http://archive.ubuntu.com/ubuntu bionic/main amd64 libmircommon-dev amd64 0.31.1-0ubuntu1 [13.9 kB]\n",
            "Get:22 http://archive.ubuntu.com/ubuntu bionic/main amd64 libmircookie2 amd64 0.31.1-0ubuntu1 [19.7 kB]\n",
            "Get:23 http://archive.ubuntu.com/ubuntu bionic/main amd64 libmircookie-dev amd64 0.31.1-0ubuntu1 [4,392 B]\n",
            "Get:24 http://archive.ubuntu.com/ubuntu bionic/main amd64 libmirclient-dev amd64 0.31.1-0ubuntu1 [47.8 kB]\n",
            "Get:25 http://archive.ubuntu.com/ubuntu bionic/main amd64 libpixman-1-dev amd64 0.34.0-2 [244 kB]\n",
            "Get:26 http://archive.ubuntu.com/ubuntu bionic-updates/main amd64 libpulse-mainloop-glib0 amd64 1:11.1-1ubuntu7.2 [22.1 kB]\n",
            "Get:27 http://archive.ubuntu.com/ubuntu bionic-updates/main amd64 libpulse-dev amd64 1:11.1-1ubuntu7.2 [81.5 kB]\n",
            "Get:28 http://archive.ubuntu.com/ubuntu bionic/universe amd64 libsndio-dev amd64 1.1.0-3 [13.3 kB]\n",
            "Get:29 http://archive.ubuntu.com/ubuntu bionic-updates/main amd64 libudev-dev amd64 237-3ubuntu10.15 [19.1 kB]\n",
            "Get:30 http://archive.ubuntu.com/ubuntu bionic/main amd64 libxcursor-dev amd64 1:1.1.15-1 [26.5 kB]\n",
            "Get:31 http://archive.ubuntu.com/ubuntu bionic/main amd64 x11proto-xinerama-dev all 2018.4-4 [2,628 B]\n",
            "Get:32 http://archive.ubuntu.com/ubuntu bionic/main amd64 libxinerama-dev amd64 2:1.1.3-1 [8,404 B]\n",
            "Get:33 http://archive.ubuntu.com/ubuntu bionic/main amd64 x11proto-randr-dev all 2018.4-4 [2,620 B]\n",
            "Get:34 http://archive.ubuntu.com/ubuntu bionic/main amd64 libxrandr-dev amd64 2:1.5.1-1 [24.0 kB]\n",
            "Get:35 http://archive.ubuntu.com/ubuntu bionic/main amd64 libxv-dev amd64 2:1.0.11-1 [32.5 kB]\n",
            "Get:36 http://archive.ubuntu.com/ubuntu bionic-updates/universe amd64 libsdl2-dev amd64 2.0.8+dfsg1-1ubuntu1.18.04.3 [684 kB]\n",
            "Get:37 http://archive.ubuntu.com/ubuntu bionic/main amd64 libxpm-dev amd64 1:3.5.12-1 [87.4 kB]\n",
            "Get:38 http://archive.ubuntu.com/ubuntu bionic/main amd64 libxaw7-dev amd64 2:1.0.13-1 [231 kB]\n",
            "Get:39 http://archive.ubuntu.com/ubuntu bionic/main amd64 x11proto-composite-dev all 1:2018.4-4 [2,620 B]\n",
            "Get:40 http://archive.ubuntu.com/ubuntu bionic/main amd64 libxcomposite-dev amd64 1:0.4.4-2 [9,136 B]\n",
            "Get:41 http://archive.ubuntu.com/ubuntu bionic/main amd64 libxfont-dev amd64 1:2.0.3-1 [118 kB]\n",
            "Get:42 http://archive.ubuntu.com/ubuntu bionic/main amd64 libxkbfile-dev amd64 1:1.0.9-2 [74.3 kB]\n",
            "Get:43 http://archive.ubuntu.com/ubuntu bionic/main amd64 libxmuu-dev amd64 2:1.1.2-2 [7,056 B]\n",
            "Get:44 http://archive.ubuntu.com/ubuntu bionic/main amd64 libxres1 amd64 2:1.2.0-2 [7,716 B]\n",
            "Get:45 http://archive.ubuntu.com/ubuntu bionic/main amd64 x11proto-resource-dev all 2018.4-4 [2,620 B]\n",
            "Get:46 http://archive.ubuntu.com/ubuntu bionic/main amd64 libxres-dev amd64 2:1.2.0-2 [8,136 B]\n",
            "Get:47 http://archive.ubuntu.com/ubuntu bionic/main amd64 x11proto-record-dev all 2018.4-4 [2,620 B]\n",
            "Get:48 http://archive.ubuntu.com/ubuntu bionic/main amd64 libxtst-dev amd64 2:1.2.3-1 [15.2 kB]\n",
            "Get:49 http://archive.ubuntu.com/ubuntu bionic/main amd64 libxvmc1 amd64 2:1.0.10-1 [13.7 kB]\n",
            "Get:50 http://archive.ubuntu.com/ubuntu bionic/main amd64 libxvmc-dev amd64 2:1.0.10-1 [21.3 kB]\n",
            "Get:51 http://archive.ubuntu.com/ubuntu bionic/main amd64 x11proto-xf86dga-dev all 2018.4-4 [2,624 B]\n",
            "Get:52 http://archive.ubuntu.com/ubuntu bionic/main amd64 libxxf86dga-dev amd64 2:1.1.4-1 [17.6 kB]\n",
            "Get:53 http://archive.ubuntu.com/ubuntu bionic/main amd64 mir-client-platform-mesa-dev amd64 0.31.1-0ubuntu1 [11.0 kB]\n",
            "Get:54 http://archive.ubuntu.com/ubuntu bionic/universe amd64 python-opengl all 3.1.0+dfsg-1 [496 kB]\n",
            "Get:55 http://archive.ubuntu.com/ubuntu bionic/universe amd64 swig3.0 amd64 3.0.12-1 [1,094 kB]\n",
            "Get:56 http://archive.ubuntu.com/ubuntu bionic/universe amd64 swig amd64 3.0.12-1 [6,460 B]\n",
            "Get:57 http://archive.ubuntu.com/ubuntu bionic/main amd64 x11proto-dri2-dev all 2018.4-4 [2,620 B]\n",
            "Get:58 http://archive.ubuntu.com/ubuntu bionic/main amd64 x11proto-gl-dev all 2018.4-4 [2,612 B]\n",
            "Get:59 http://archive.ubuntu.com/ubuntu bionic/main amd64 x11proto-render-dev all 2:2018.4-4 [2,620 B]\n",
            "Get:60 http://archive.ubuntu.com/ubuntu bionic/main amd64 x11proto-xf86bigfont-dev all 2018.4-4 [2,628 B]\n",
            "Get:61 http://archive.ubuntu.com/ubuntu bionic/main amd64 libpciaccess-dev amd64 0.14-1 [20.2 kB]\n",
            "Get:62 http://archive.ubuntu.com/ubuntu bionic-updates/main amd64 xserver-xorg-dev amd64 2:1.19.6-1ubuntu4.2 [199 kB]\n",
            "Get:63 http://archive.ubuntu.com/ubuntu bionic-updates/main amd64 xorg-dev all 1:7.7+19ubuntu7.1 [4,300 B]\n",
            "Get:64 http://archive.ubuntu.com/ubuntu bionic-updates/universe amd64 xvfb amd64 2:1.19.6-1ubuntu4.2 [783 kB]\n",
            "Fetched 7,598 kB in 2s (3,851 kB/s)\n",
            "debconf: unable to initialize frontend: Dialog\n",
            "debconf: (No usable dialog-like program is installed, so the dialog based frontend cannot be used. at /usr/share/perl5/Debconf/FrontEnd/Dialog.pm line 76, <> line 64.)\n",
            "debconf: falling back to frontend: Readline\n",
            "debconf: unable to initialize frontend: Readline\n",
            "debconf: (This frontend requires a controlling tty.)\n",
            "debconf: falling back to frontend: Teletype\n",
            "dpkg-preconfigure: unable to re-open stdin: \n",
            "Selecting previously unselected package libdmx1:amd64.\n",
            "(Reading database ... 131294 files and directories currently installed.)\n",
            "Preparing to unpack .../00-libdmx1_1%3a1.1.3-1_amd64.deb ...\n",
            "Unpacking libdmx1:amd64 (1:1.1.3-1) ...\n",
            "Selecting previously unselected package libxxf86dga1:amd64.\n",
            "Preparing to unpack .../01-libxxf86dga1_2%3a1.1.4-1_amd64.deb ...\n",
            "Unpacking libxxf86dga1:amd64 (2:1.1.4-1) ...\n",
            "Selecting previously unselected package libibus-1.0-5:amd64.\n",
            "Preparing to unpack .../02-libibus-1.0-5_1.5.17-3ubuntu4_amd64.deb ...\n",
            "Unpacking libibus-1.0-5:amd64 (1.5.17-3ubuntu4) ...\n",
            "Selecting previously unselected package gir1.2-ibus-1.0:amd64.\n",
            "Preparing to unpack .../03-gir1.2-ibus-1.0_1.5.17-3ubuntu4_amd64.deb ...\n",
            "Unpacking gir1.2-ibus-1.0:amd64 (1.5.17-3ubuntu4) ...\n",
            "Selecting previously unselected package libcapnp-0.6.1:amd64.\n",
            "Preparing to unpack .../04-libcapnp-0.6.1_0.6.1-1ubuntu1_amd64.deb ...\n",
            "Unpacking libcapnp-0.6.1:amd64 (0.6.1-1ubuntu1) ...\n",
            "Selecting previously unselected package libdbus-1-dev:amd64.\n",
            "Preparing to unpack .../05-libdbus-1-dev_1.12.2-1ubuntu1_amd64.deb ...\n",
            "Unpacking libdbus-1-dev:amd64 (1.12.2-1ubuntu1) ...\n",
            "Selecting previously unselected package libdmx-dev:amd64.\n",
            "Preparing to unpack .../06-libdmx-dev_1%3a1.1.3-1_amd64.deb ...\n",
            "Unpacking libdmx-dev:amd64 (1:1.1.3-1) ...\n",
            "Selecting previously unselected package libfontenc-dev:amd64.\n",
            "Preparing to unpack .../07-libfontenc-dev_1%3a1.1.3-1_amd64.deb ...\n",
            "Unpacking libfontenc-dev:amd64 (1:1.1.3-1) ...\n",
            "Selecting previously unselected package libfs6:amd64.\n",
            "Preparing to unpack .../08-libfs6_2%3a1.0.7-1_amd64.deb ...\n",
            "Unpacking libfs6:amd64 (2:1.0.7-1) ...\n",
            "Selecting previously unselected package x11proto-fonts-dev.\n",
            "Preparing to unpack .../09-x11proto-fonts-dev_2018.4-4_all.deb ...\n",
            "Unpacking x11proto-fonts-dev (2018.4-4) ...\n",
            "Selecting previously unselected package libfs-dev:amd64.\n",
            "Preparing to unpack .../10-libfs-dev_2%3a1.0.7-1_amd64.deb ...\n",
            "Unpacking libfs-dev:amd64 (2:1.0.7-1) ...\n",
            "Selecting previously unselected package libibus-1.0-dev:amd64.\n",
            "Preparing to unpack .../11-libibus-1.0-dev_1.5.17-3ubuntu4_amd64.deb ...\n",
            "Unpacking libibus-1.0-dev:amd64 (1.5.17-3ubuntu4) ...\n",
            "Selecting previously unselected package libmircore1:amd64.\n",
            "Preparing to unpack .../12-libmircore1_0.31.1-0ubuntu1_amd64.deb ...\n",
            "Unpacking libmircore1:amd64 (0.31.1-0ubuntu1) ...\n",
            "Selecting previously unselected package libmircommon7:amd64.\n",
            "Preparing to unpack .../13-libmircommon7_0.31.1-0ubuntu1_amd64.deb ...\n",
            "Unpacking libmircommon7:amd64 (0.31.1-0ubuntu1) ...\n",
            "Selecting previously unselected package libprotobuf-lite10:amd64.\n",
            "Preparing to unpack .../14-libprotobuf-lite10_3.0.0-9.1ubuntu1_amd64.deb ...\n",
            "Unpacking libprotobuf-lite10:amd64 (3.0.0-9.1ubuntu1) ...\n",
            "Selecting previously unselected package libmirprotobuf3:amd64.\n",
            "Preparing to unpack .../15-libmirprotobuf3_0.31.1-0ubuntu1_amd64.deb ...\n",
            "Unpacking libmirprotobuf3:amd64 (0.31.1-0ubuntu1) ...\n",
            "Selecting previously unselected package libmirclient9:amd64.\n",
            "Preparing to unpack .../16-libmirclient9_0.31.1-0ubuntu1_amd64.deb ...\n",
            "Unpacking libmirclient9:amd64 (0.31.1-0ubuntu1) ...\n",
            "Selecting previously unselected package libmircore-dev:amd64.\n",
            "Preparing to unpack .../17-libmircore-dev_0.31.1-0ubuntu1_amd64.deb ...\n",
            "Unpacking libmircore-dev:amd64 (0.31.1-0ubuntu1) ...\n",
            "Selecting previously unselected package libprotobuf-dev:amd64.\n",
            "Preparing to unpack .../18-libprotobuf-dev_3.0.0-9.1ubuntu1_amd64.deb ...\n",
            "Unpacking libprotobuf-dev:amd64 (3.0.0-9.1ubuntu1) ...\n",
            "Selecting previously unselected package libxkbcommon-dev.\n",
            "Preparing to unpack .../19-libxkbcommon-dev_0.8.0-1ubuntu0.1_amd64.deb ...\n",
            "Unpacking libxkbcommon-dev (0.8.0-1ubuntu0.1) ...\n",
            "Selecting previously unselected package libmircommon-dev:amd64.\n",
            "Preparing to unpack .../20-libmircommon-dev_0.31.1-0ubuntu1_amd64.deb ...\n",
            "Unpacking libmircommon-dev:amd64 (0.31.1-0ubuntu1) ...\n",
            "Selecting previously unselected package libmircookie2:amd64.\n",
            "Preparing to unpack .../21-libmircookie2_0.31.1-0ubuntu1_amd64.deb ...\n",
            "Unpacking libmircookie2:amd64 (0.31.1-0ubuntu1) ...\n",
            "Selecting previously unselected package libmircookie-dev:amd64.\n",
            "Preparing to unpack .../22-libmircookie-dev_0.31.1-0ubuntu1_amd64.deb ...\n",
            "Unpacking libmircookie-dev:amd64 (0.31.1-0ubuntu1) ...\n",
            "Selecting previously unselected package libmirclient-dev:amd64.\n",
            "Preparing to unpack .../23-libmirclient-dev_0.31.1-0ubuntu1_amd64.deb ...\n",
            "Unpacking libmirclient-dev:amd64 (0.31.1-0ubuntu1) ...\n",
            "Selecting previously unselected package libpixman-1-dev:amd64.\n",
            "Preparing to unpack .../24-libpixman-1-dev_0.34.0-2_amd64.deb ...\n",
            "Unpacking libpixman-1-dev:amd64 (0.34.0-2) ...\n",
            "Selecting previously unselected package libpulse-mainloop-glib0:amd64.\n",
            "Preparing to unpack .../25-libpulse-mainloop-glib0_1%3a11.1-1ubuntu7.2_amd64.deb ...\n",
            "Unpacking libpulse-mainloop-glib0:amd64 (1:11.1-1ubuntu7.2) ...\n",
            "Selecting previously unselected package libpulse-dev:amd64.\n",
            "Preparing to unpack .../26-libpulse-dev_1%3a11.1-1ubuntu7.2_amd64.deb ...\n",
            "Unpacking libpulse-dev:amd64 (1:11.1-1ubuntu7.2) ...\n",
            "Selecting previously unselected package libsndio-dev:amd64.\n",
            "Preparing to unpack .../27-libsndio-dev_1.1.0-3_amd64.deb ...\n",
            "Unpacking libsndio-dev:amd64 (1.1.0-3) ...\n",
            "Selecting previously unselected package libudev-dev:amd64.\n",
            "Preparing to unpack .../28-libudev-dev_237-3ubuntu10.15_amd64.deb ...\n",
            "Unpacking libudev-dev:amd64 (237-3ubuntu10.15) ...\n",
            "Selecting previously unselected package libxcursor-dev:amd64.\n",
            "Preparing to unpack .../29-libxcursor-dev_1%3a1.1.15-1_amd64.deb ...\n",
            "Unpacking libxcursor-dev:amd64 (1:1.1.15-1) ...\n",
            "Selecting previously unselected package x11proto-xinerama-dev.\n",
            "Preparing to unpack .../30-x11proto-xinerama-dev_2018.4-4_all.deb ...\n",
            "Unpacking x11proto-xinerama-dev (2018.4-4) ...\n",
            "Selecting previously unselected package libxinerama-dev:amd64.\n",
            "Preparing to unpack .../31-libxinerama-dev_2%3a1.1.3-1_amd64.deb ...\n",
            "Unpacking libxinerama-dev:amd64 (2:1.1.3-1) ...\n",
            "Selecting previously unselected package x11proto-randr-dev.\n",
            "Preparing to unpack .../32-x11proto-randr-dev_2018.4-4_all.deb ...\n",
            "Unpacking x11proto-randr-dev (2018.4-4) ...\n",
            "Selecting previously unselected package libxrandr-dev:amd64.\n",
            "Preparing to unpack .../33-libxrandr-dev_2%3a1.5.1-1_amd64.deb ...\n",
            "Unpacking libxrandr-dev:amd64 (2:1.5.1-1) ...\n",
            "Selecting previously unselected package libxv-dev:amd64.\n",
            "Preparing to unpack .../34-libxv-dev_2%3a1.0.11-1_amd64.deb ...\n",
            "Unpacking libxv-dev:amd64 (2:1.0.11-1) ...\n",
            "Selecting previously unselected package libsdl2-dev:amd64.\n",
            "Preparing to unpack .../35-libsdl2-dev_2.0.8+dfsg1-1ubuntu1.18.04.3_amd64.deb ...\n",
            "Unpacking libsdl2-dev:amd64 (2.0.8+dfsg1-1ubuntu1.18.04.3) ...\n",
            "Selecting previously unselected package libxpm-dev:amd64.\n",
            "Preparing to unpack .../36-libxpm-dev_1%3a3.5.12-1_amd64.deb ...\n",
            "Unpacking libxpm-dev:amd64 (1:3.5.12-1) ...\n",
            "Selecting previously unselected package libxaw7-dev:amd64.\n",
            "Preparing to unpack .../37-libxaw7-dev_2%3a1.0.13-1_amd64.deb ...\n",
            "Unpacking libxaw7-dev:amd64 (2:1.0.13-1) ...\n",
            "Selecting previously unselected package x11proto-composite-dev.\n",
            "Preparing to unpack .../38-x11proto-composite-dev_1%3a2018.4-4_all.deb ...\n",
            "Unpacking x11proto-composite-dev (1:2018.4-4) ...\n",
            "Selecting previously unselected package libxcomposite-dev:amd64.\n",
            "Preparing to unpack .../39-libxcomposite-dev_1%3a0.4.4-2_amd64.deb ...\n",
            "Unpacking libxcomposite-dev:amd64 (1:0.4.4-2) ...\n",
            "Selecting previously unselected package libxfont-dev.\n",
            "Preparing to unpack .../40-libxfont-dev_1%3a2.0.3-1_amd64.deb ...\n",
            "Unpacking libxfont-dev (1:2.0.3-1) ...\n",
            "Selecting previously unselected package libxkbfile-dev:amd64.\n",
            "Preparing to unpack .../41-libxkbfile-dev_1%3a1.0.9-2_amd64.deb ...\n",
            "Unpacking libxkbfile-dev:amd64 (1:1.0.9-2) ...\n",
            "Selecting previously unselected package libxmuu-dev:amd64.\n",
            "Preparing to unpack .../42-libxmuu-dev_2%3a1.1.2-2_amd64.deb ...\n",
            "Unpacking libxmuu-dev:amd64 (2:1.1.2-2) ...\n",
            "Selecting previously unselected package libxres1:amd64.\n",
            "Preparing to unpack .../43-libxres1_2%3a1.2.0-2_amd64.deb ...\n",
            "Unpacking libxres1:amd64 (2:1.2.0-2) ...\n",
            "Selecting previously unselected package x11proto-resource-dev.\n",
            "Preparing to unpack .../44-x11proto-resource-dev_2018.4-4_all.deb ...\n",
            "Unpacking x11proto-resource-dev (2018.4-4) ...\n",
            "Selecting previously unselected package libxres-dev.\n",
            "Preparing to unpack .../45-libxres-dev_2%3a1.2.0-2_amd64.deb ...\n",
            "Unpacking libxres-dev (2:1.2.0-2) ...\n",
            "Selecting previously unselected package x11proto-record-dev.\n",
            "Preparing to unpack .../46-x11proto-record-dev_2018.4-4_all.deb ...\n",
            "Unpacking x11proto-record-dev (2018.4-4) ...\n",
            "Selecting previously unselected package libxtst-dev:amd64.\n",
            "Preparing to unpack .../47-libxtst-dev_2%3a1.2.3-1_amd64.deb ...\n",
            "Unpacking libxtst-dev:amd64 (2:1.2.3-1) ...\n",
            "Selecting previously unselected package libxvmc1:amd64.\n",
            "Preparing to unpack .../48-libxvmc1_2%3a1.0.10-1_amd64.deb ...\n",
            "Unpacking libxvmc1:amd64 (2:1.0.10-1) ...\n",
            "Selecting previously unselected package libxvmc-dev:amd64.\n",
            "Preparing to unpack .../49-libxvmc-dev_2%3a1.0.10-1_amd64.deb ...\n",
            "Unpacking libxvmc-dev:amd64 (2:1.0.10-1) ...\n",
            "Selecting previously unselected package x11proto-xf86dga-dev.\n",
            "Preparing to unpack .../50-x11proto-xf86dga-dev_2018.4-4_all.deb ...\n",
            "Unpacking x11proto-xf86dga-dev (2018.4-4) ...\n",
            "Selecting previously unselected package libxxf86dga-dev:amd64.\n",
            "Preparing to unpack .../51-libxxf86dga-dev_2%3a1.1.4-1_amd64.deb ...\n",
            "Unpacking libxxf86dga-dev:amd64 (2:1.1.4-1) ...\n",
            "Selecting previously unselected package mir-client-platform-mesa-dev:amd64.\n",
            "Preparing to unpack .../52-mir-client-platform-mesa-dev_0.31.1-0ubuntu1_amd64.deb ...\n",
            "Unpacking mir-client-platform-mesa-dev:amd64 (0.31.1-0ubuntu1) ...\n",
            "Selecting previously unselected package python-opengl.\n",
            "Preparing to unpack .../53-python-opengl_3.1.0+dfsg-1_all.deb ...\n",
            "Unpacking python-opengl (3.1.0+dfsg-1) ...\n",
            "Selecting previously unselected package swig3.0.\n",
            "Preparing to unpack .../54-swig3.0_3.0.12-1_amd64.deb ...\n",
            "Unpacking swig3.0 (3.0.12-1) ...\n",
            "Selecting previously unselected package swig.\n",
            "Preparing to unpack .../55-swig_3.0.12-1_amd64.deb ...\n",
            "Unpacking swig (3.0.12-1) ...\n",
            "Selecting previously unselected package x11proto-dri2-dev.\n",
            "Preparing to unpack .../56-x11proto-dri2-dev_2018.4-4_all.deb ...\n",
            "Unpacking x11proto-dri2-dev (2018.4-4) ...\n",
            "Selecting previously unselected package x11proto-gl-dev.\n",
            "Preparing to unpack .../57-x11proto-gl-dev_2018.4-4_all.deb ...\n",
            "Unpacking x11proto-gl-dev (2018.4-4) ...\n",
            "Selecting previously unselected package x11proto-render-dev.\n",
            "Preparing to unpack .../58-x11proto-render-dev_2%3a2018.4-4_all.deb ...\n",
            "Unpacking x11proto-render-dev (2:2018.4-4) ...\n",
            "Selecting previously unselected package x11proto-xf86bigfont-dev.\n",
            "Preparing to unpack .../59-x11proto-xf86bigfont-dev_2018.4-4_all.deb ...\n",
            "Unpacking x11proto-xf86bigfont-dev (2018.4-4) ...\n",
            "Selecting previously unselected package libpciaccess-dev:amd64.\n",
            "Preparing to unpack .../60-libpciaccess-dev_0.14-1_amd64.deb ...\n",
            "Unpacking libpciaccess-dev:amd64 (0.14-1) ...\n",
            "Selecting previously unselected package xserver-xorg-dev.\n",
            "Preparing to unpack .../61-xserver-xorg-dev_2%3a1.19.6-1ubuntu4.2_amd64.deb ...\n",
            "Unpacking xserver-xorg-dev (2:1.19.6-1ubuntu4.2) ...\n",
            "Selecting previously unselected package xorg-dev.\n",
            "Preparing to unpack .../62-xorg-dev_1%3a7.7+19ubuntu7.1_all.deb ...\n",
            "Unpacking xorg-dev (1:7.7+19ubuntu7.1) ...\n",
            "Selecting previously unselected package xvfb.\n",
            "Preparing to unpack .../63-xvfb_2%3a1.19.6-1ubuntu4.2_amd64.deb ...\n",
            "Unpacking xvfb (2:1.19.6-1ubuntu4.2) ...\n",
            "Setting up x11proto-fonts-dev (2018.4-4) ...\n",
            "Setting up x11proto-dri2-dev (2018.4-4) ...\n",
            "Setting up libdbus-1-dev:amd64 (1.12.2-1ubuntu1) ...\n",
            "Setting up libxcursor-dev:amd64 (1:1.1.15-1) ...\n",
            "Setting up libxkbcommon-dev (0.8.0-1ubuntu0.1) ...\n",
            "Setting up libpulse-mainloop-glib0:amd64 (1:11.1-1ubuntu7.2) ...\n",
            "Setting up libpulse-dev:amd64 (1:11.1-1ubuntu7.2) ...\n",
            "Setting up python-opengl (3.1.0+dfsg-1) ...\n",
            "Setting up swig3.0 (3.0.12-1) ...\n",
            "Setting up libpciaccess-dev:amd64 (0.14-1) ...\n",
            "Setting up libmircore-dev:amd64 (0.31.1-0ubuntu1) ...\n",
            "Setting up libxres1:amd64 (2:1.2.0-2) ...\n",
            "Setting up xvfb (2:1.19.6-1ubuntu4.2) ...\n",
            "Setting up libxpm-dev:amd64 (1:3.5.12-1) ...\n",
            "Setting up libsndio-dev:amd64 (1.1.0-3) ...\n",
            "Setting up libxres-dev (2:1.2.0-2) ...\n",
            "Setting up x11proto-xf86bigfont-dev (2018.4-4) ...\n",
            "Setting up libxkbfile-dev:amd64 (1:1.0.9-2) ...\n",
            "Setting up libxvmc1:amd64 (2:1.0.10-1) ...\n",
            "Setting up libxmuu-dev:amd64 (2:1.1.2-2) ...\n",
            "Setting up x11proto-record-dev (2018.4-4) ...\n",
            "Setting up libxtst-dev:amd64 (2:1.2.3-1) ...\n",
            "Setting up libmircookie2:amd64 (0.31.1-0ubuntu1) ...\n",
            "Setting up libfontenc-dev:amd64 (1:1.1.3-1) ...\n",
            "Setting up libxxf86dga1:amd64 (2:1.1.4-1) ...\n",
            "Processing triggers for libc-bin (2.27-3ubuntu1) ...\n",
            "Setting up x11proto-xinerama-dev (2018.4-4) ...\n",
            "Setting up libpixman-1-dev:amd64 (0.34.0-2) ...\n",
            "Setting up x11proto-randr-dev (2018.4-4) ...\n",
            "Setting up libxinerama-dev:amd64 (2:1.1.3-1) ...\n",
            "Setting up x11proto-gl-dev (2018.4-4) ...\n",
            "Setting up libxv-dev:amd64 (2:1.0.11-1) ...\n",
            "Setting up libcapnp-0.6.1:amd64 (0.6.1-1ubuntu1) ...\n",
            "Setting up x11proto-resource-dev (2018.4-4) ...\n",
            "Setting up x11proto-xf86dga-dev (2018.4-4) ...\n",
            "Setting up libfs6:amd64 (2:1.0.7-1) ...\n",
            "Setting up libxxf86dga-dev:amd64 (2:1.1.4-1) ...\n",
            "Processing triggers for man-db (2.8.3-2ubuntu0.1) ...\n",
            "Setting up libibus-1.0-5:amd64 (1.5.17-3ubuntu4) ...\n",
            "Setting up libdmx1:amd64 (1:1.1.3-1) ...\n",
            "Setting up x11proto-render-dev (2:2018.4-4) ...\n",
            "Setting up libmircore1:amd64 (0.31.1-0ubuntu1) ...\n",
            "Setting up libprotobuf-lite10:amd64 (3.0.0-9.1ubuntu1) ...\n",
            "Setting up libudev-dev:amd64 (237-3ubuntu10.15) ...\n",
            "Setting up x11proto-composite-dev (1:2018.4-4) ...\n",
            "Setting up gir1.2-ibus-1.0:amd64 (1.5.17-3ubuntu4) ...\n",
            "Setting up swig (3.0.12-1) ...\n",
            "Setting up libxrandr-dev:amd64 (2:1.5.1-1) ...\n",
            "Setting up libxcomposite-dev:amd64 (1:0.4.4-2) ...\n",
            "Setting up libxaw7-dev:amd64 (2:1.0.13-1) ...\n",
            "Setting up libmirprotobuf3:amd64 (0.31.1-0ubuntu1) ...\n",
            "Setting up libdmx-dev:amd64 (1:1.1.3-1) ...\n",
            "Setting up libprotobuf-dev:amd64 (3.0.0-9.1ubuntu1) ...\n",
            "Setting up libxvmc-dev:amd64 (2:1.0.10-1) ...\n",
            "Setting up libmircookie-dev:amd64 (0.31.1-0ubuntu1) ...\n",
            "Setting up libxfont-dev (1:2.0.3-1) ...\n",
            "Setting up libibus-1.0-dev:amd64 (1.5.17-3ubuntu4) ...\n",
            "Setting up libfs-dev:amd64 (2:1.0.7-1) ...\n",
            "Setting up libmircommon7:amd64 (0.31.1-0ubuntu1) ...\n",
            "Setting up libmirclient9:amd64 (0.31.1-0ubuntu1) ...\n",
            "Setting up libmircommon-dev:amd64 (0.31.1-0ubuntu1) ...\n",
            "Setting up libmirclient-dev:amd64 (0.31.1-0ubuntu1) ...\n",
            "Setting up libsdl2-dev:amd64 (2.0.8+dfsg1-1ubuntu1.18.04.3) ...\n",
            "Setting up mir-client-platform-mesa-dev:amd64 (0.31.1-0ubuntu1) ...\n",
            "Setting up xserver-xorg-dev (2:1.19.6-1ubuntu4.2) ...\n",
            "Setting up xorg-dev (1:7.7+19ubuntu7.1) ...\n",
            "Processing triggers for libc-bin (2.27-3ubuntu1) ...\n"
          ],
          "name": "stdout"
        }
      ]
    },
    {
      "metadata": {
        "id": "ezhh--L9xNNL",
        "colab_type": "code",
        "colab": {}
      },
      "cell_type": "code",
      "source": [
        ""
      ],
      "execution_count": 0,
      "outputs": []
    },
    {
      "metadata": {
        "id": "-ucj3K5RSf8l",
        "colab_type": "code",
        "outputId": "663bb4d7-da7f-4129-98e7-37f9309a5498",
        "colab": {
          "base_uri": "https://localhost:8080/",
          "height": 241
        }
      },
      "cell_type": "code",
      "source": [
        "!pip install pyvirtualdisplay"
      ],
      "execution_count": 7,
      "outputs": [
        {
          "output_type": "stream",
          "text": [
            "Collecting pyvirtualdisplay\n",
            "  Downloading https://files.pythonhosted.org/packages/39/37/f285403a09cc261c56b6574baace1bdcf4b8c7428c8a7239cbba137bc0eb/PyVirtualDisplay-0.2.1.tar.gz\n",
            "Collecting EasyProcess (from pyvirtualdisplay)\n",
            "  Downloading https://files.pythonhosted.org/packages/45/3a/4eecc0c7995a13a64739bbedc0d3691fc574245b7e79cff81905aa0c2b38/EasyProcess-0.2.5.tar.gz\n",
            "Building wheels for collected packages: pyvirtualdisplay, EasyProcess\n",
            "  Building wheel for pyvirtualdisplay (setup.py) ... \u001b[?25ldone\n",
            "\u001b[?25h  Stored in directory: /root/.cache/pip/wheels/d1/8c/16/1c64227974ae29c687e4cc30fd691d5c0fd40f54446dde99da\n",
            "  Building wheel for EasyProcess (setup.py) ... \u001b[?25ldone\n",
            "\u001b[?25h  Stored in directory: /root/.cache/pip/wheels/41/22/19/af15ef6264c58b625a82641ed7483ad05e258fbd8925505227\n",
            "Successfully built pyvirtualdisplay EasyProcess\n",
            "Installing collected packages: EasyProcess, pyvirtualdisplay\n",
            "Successfully installed EasyProcess-0.2.5 pyvirtualdisplay-0.2.1\n"
          ],
          "name": "stdout"
        }
      ]
    },
    {
      "metadata": {
        "id": "zng3yEzTSqDp",
        "colab_type": "code",
        "outputId": "483efc5c-cb30-4b13-e6d0-1cc06588ba60",
        "colab": {
          "base_uri": "https://localhost:8080/",
          "height": 343
        }
      },
      "cell_type": "code",
      "source": [
        "!pip install piglet"
      ],
      "execution_count": 8,
      "outputs": [
        {
          "output_type": "stream",
          "text": [
            "Collecting piglet\n",
            "\u001b[?25l  Downloading https://files.pythonhosted.org/packages/86/f6/ef278239ebe525466ea51a7dd9d6d3211d197ac4b4abc76e17cdd419f69c/piglet-0.4.4.tar.gz (52kB)\n",
            "\r\u001b[K    19% |██████▎                         | 10kB 12.9MB/s eta 0:00:01\r\u001b[K    39% |████████████▌                   | 20kB 2.3MB/s eta 0:00:01\r\u001b[K    58% |██████████████████▊             | 30kB 3.3MB/s eta 0:00:01\r\u001b[K    78% |█████████████████████████       | 40kB 2.2MB/s eta 0:00:01\r\u001b[K    97% |███████████████████████████████▎| 51kB 2.7MB/s eta 0:00:01\r\u001b[K    100% |████████████████████████████████| 61kB 3.0MB/s \n",
            "\u001b[?25hCollecting Parsley (from piglet)\n",
            "\u001b[?25l  Downloading https://files.pythonhosted.org/packages/2b/d6/4fed8d65e28a970e1c5cb33ce9c7e22e3de745e1b2ae37af051ef16aea3b/Parsley-1.3-py2.py3-none-any.whl (88kB)\n",
            "\u001b[K    100% |████████████████████████████████| 92kB 7.8MB/s \n",
            "\u001b[?25hRequirement already satisfied: attrs in /usr/local/lib/python3.6/dist-packages (from piglet) (19.1.0)\n",
            "Collecting astunparse (from piglet)\n",
            "  Downloading https://files.pythonhosted.org/packages/2e/37/5dd0dd89b87bb5f0f32a7e775458412c52d78f230ab8d0c65df6aabc4479/astunparse-1.6.2-py2.py3-none-any.whl\n",
            "Requirement already satisfied: markupsafe in /usr/local/lib/python3.6/dist-packages (from piglet) (1.1.1)\n",
            "Requirement already satisfied: six<2.0,>=1.6.1 in /usr/local/lib/python3.6/dist-packages (from astunparse->piglet) (1.11.0)\n",
            "Requirement already satisfied: wheel<1.0,>=0.23.0 in /usr/local/lib/python3.6/dist-packages (from astunparse->piglet) (0.33.1)\n",
            "Building wheels for collected packages: piglet\n",
            "  Building wheel for piglet (setup.py) ... \u001b[?25ldone\n",
            "\u001b[?25h  Stored in directory: /root/.cache/pip/wheels/c7/59/a5/5bd1a35a4a4596714c4c7925a1751e7b1580b6ced363fd7969\n",
            "Successfully built piglet\n",
            "Installing collected packages: Parsley, astunparse, piglet\n",
            "Successfully installed Parsley-1.3 astunparse-1.6.2 piglet-0.4.4\n"
          ],
          "name": "stdout"
        }
      ]
    },
    {
      "metadata": {
        "id": "eAO1Pu3oSvvA",
        "colab_type": "code",
        "outputId": "2a4a69f0-cfb5-46e6-9540-77bf2260b486",
        "colab": {
          "base_uri": "https://localhost:8080/",
          "height": 54
        }
      },
      "cell_type": "code",
      "source": [
        "from pyvirtualdisplay import Display\n",
        "display = Display(visible=0, size=(1400, 900))\n",
        "display.start()"
      ],
      "execution_count": 9,
      "outputs": [
        {
          "output_type": "execute_result",
          "data": {
            "text/plain": [
              "<Display cmd_param=['Xvfb', '-br', '-nolisten', 'tcp', '-screen', '0', '1400x900x24', ':1001'] cmd=['Xvfb', '-br', '-nolisten', 'tcp', '-screen', '0', '1400x900x24', ':1001'] oserror=None return_code=None stdout=\"None\" stderr=\"None\" timeout_happened=False>"
            ]
          },
          "metadata": {
            "tags": []
          },
          "execution_count": 9
        }
      ]
    },
    {
      "metadata": {
        "id": "omhmxArqS6ci",
        "colab_type": "code",
        "colab": {}
      },
      "cell_type": "code",
      "source": [
        "\n",
        "\n",
        "# This code creates a virtual display to draw game images on. \n",
        "# If you are running locally, just ignore it\n",
        "import os\n",
        "if type(os.environ.get(\"DISPLAY\")) is not str or len(os.environ.get(\"DISPLAY\"))==0:\n",
        "    !bash ../xvfb start\n",
        "    %env DISPLAY=:1"
      ],
      "execution_count": 0,
      "outputs": []
    },
    {
      "metadata": {
        "id": "dHewJDlvxX3D",
        "colab_type": "code",
        "colab": {}
      },
      "cell_type": "code",
      "source": [
        ""
      ],
      "execution_count": 0,
      "outputs": []
    },
    {
      "metadata": {
        "id": "u9G_iu1ixcNs",
        "colab_type": "code",
        "colab": {}
      },
      "cell_type": "code",
      "source": [
        ""
      ],
      "execution_count": 0,
      "outputs": []
    },
    {
      "metadata": {
        "id": "p0zgm-1mxfMm",
        "colab_type": "code",
        "colab": {}
      },
      "cell_type": "code",
      "source": [
        ""
      ],
      "execution_count": 0,
      "outputs": []
    },
    {
      "metadata": {
        "id": "tsNGPKV0xqhF",
        "colab_type": "text"
      },
      "cell_type": "markdown",
      "source": [
        "##runing env og gym in colab "
      ]
    },
    {
      "metadata": {
        "id": "jKLspvWk5D4v",
        "colab_type": "code",
        "colab": {
          "base_uri": "https://localhost:8080/",
          "height": 51
        },
        "outputId": "d77c3b45-6d55-45f9-f3e7-620867cfa85b"
      },
      "cell_type": "code",
      "source": [
        "%cd /content/\n",
        "\n",
        "!ls"
      ],
      "execution_count": 12,
      "outputs": [
        {
          "output_type": "stream",
          "text": [
            "/content\n",
            "adc.json  gdrive  sample_data\n"
          ],
          "name": "stdout"
        }
      ]
    },
    {
      "metadata": {
        "id": "V1CSFECU05IM",
        "colab_type": "code",
        "outputId": "b2730ca4-43d3-436b-c577-17de4a429722",
        "colab": {
          "base_uri": "https://localhost:8080/",
          "height": 428
        }
      },
      "cell_type": "code",
      "source": [
        "!git clone https://github.com/openai/gym.git\n"
      ],
      "execution_count": 13,
      "outputs": [
        {
          "output_type": "stream",
          "text": [
            "Cloning into 'gym'...\n",
            "remote: Enumerating objects: 9219, done.\u001b[K\n",
            "Receiving objects:   0% (1/9219)   \rReceiving objects:   1% (93/9219)   \rReceiving objects:   2% (185/9219)   \rReceiving objects:   3% (277/9219)   \rReceiving objects:   4% (369/9219)   \rReceiving objects:   5% (461/9219)   \rReceiving objects:   6% (554/9219)   \rReceiving objects:   7% (646/9219)   \rReceiving objects:   8% (738/9219)   \rReceiving objects:   9% (830/9219)   \rReceiving objects:  10% (922/9219)   \rReceiving objects:  11% (1015/9219)   \rReceiving objects:  12% (1107/9219)   \rReceiving objects:  13% (1199/9219)   \rReceiving objects:  14% (1291/9219)   \rReceiving objects:  15% (1383/9219)   \rReceiving objects:  16% (1476/9219)   \rReceiving objects:  17% (1568/9219)   \rReceiving objects:  18% (1660/9219)   \rReceiving objects:  19% (1752/9219)   \rReceiving objects:  20% (1844/9219)   \rReceiving objects:  21% (1936/9219)   \rReceiving objects:  22% (2029/9219)   \rReceiving objects:  23% (2121/9219)   \rReceiving objects:  24% (2213/9219)   \rReceiving objects:  25% (2305/9219)   \rReceiving objects:  26% (2397/9219)   \rReceiving objects:  27% (2490/9219)   \rReceiving objects:  28% (2582/9219)   \rReceiving objects:  29% (2674/9219)   \rReceiving objects:  30% (2766/9219)   \rReceiving objects:  31% (2858/9219)   \rReceiving objects:  32% (2951/9219)   \rReceiving objects:  33% (3043/9219)   \rReceiving objects:  34% (3135/9219)   \rReceiving objects:  35% (3227/9219)   \rReceiving objects:  36% (3319/9219)   \rReceiving objects:  37% (3412/9219)   \rReceiving objects:  38% (3504/9219)   \rReceiving objects:  39% (3596/9219)   \rReceiving objects:  40% (3688/9219)   \rReceiving objects:  41% (3780/9219)   \rReceiving objects:  42% (3872/9219)   \rReceiving objects:  43% (3965/9219)   \rReceiving objects:  44% (4057/9219)   \rReceiving objects:  45% (4149/9219)   \rReceiving objects:  46% (4241/9219)   \rReceiving objects:  47% (4333/9219)   \rReceiving objects:  48% (4426/9219)   \rReceiving objects:  49% (4518/9219)   \rReceiving objects:  50% (4610/9219)   \rReceiving objects:  51% (4702/9219)   \rReceiving objects:  52% (4794/9219)   \rReceiving objects:  53% (4887/9219)   \rReceiving objects:  54% (4979/9219)   \rReceiving objects:  55% (5071/9219)   \rReceiving objects:  56% (5163/9219)   \rReceiving objects:  57% (5255/9219)   \rReceiving objects:  58% (5348/9219)   \rReceiving objects:  59% (5440/9219)   \rReceiving objects:  60% (5532/9219)   \rReceiving objects:  61% (5624/9219)   \rReceiving objects:  62% (5716/9219)   \rReceiving objects:  63% (5808/9219)   \rReceiving objects:  64% (5901/9219)   \rReceiving objects:  65% (5993/9219)   \rReceiving objects:  66% (6085/9219)   \rReceiving objects:  67% (6177/9219)   \rReceiving objects:  68% (6269/9219)   \rReceiving objects:  69% (6362/9219)   \rReceiving objects:  70% (6454/9219)   \rReceiving objects:  71% (6546/9219)   \rReceiving objects:  72% (6638/9219)   \rReceiving objects:  73% (6730/9219)   \rReceiving objects:  74% (6823/9219)   \rReceiving objects:  75% (6915/9219)   \rReceiving objects:  76% (7007/9219)   \rReceiving objects:  77% (7099/9219)   \rReceiving objects:  78% (7191/9219)   \rReceiving objects:  79% (7284/9219)   \rReceiving objects:  80% (7376/9219)   \rReceiving objects:  81% (7468/9219)   \rReceiving objects:  82% (7560/9219)   \rReceiving objects:  83% (7652/9219)   \rReceiving objects:  84% (7744/9219)   \rReceiving objects:  85% (7837/9219)   \rReceiving objects:  86% (7929/9219)   \rReceiving objects:  87% (8021/9219)   \rReceiving objects:  88% (8113/9219)   \rReceiving objects:  89% (8205/9219)   \rReceiving objects:  90% (8298/9219)   \rReceiving objects:  91% (8390/9219)   \rReceiving objects:  92% (8482/9219)   \rReceiving objects:  93% (8574/9219)   \rReceiving objects:  94% (8666/9219)   \rReceiving objects:  95% (8759/9219)   \rReceiving objects:  96% (8851/9219)   \rReceiving objects:  97% (8943/9219)   \rReceiving objects:  98% (9035/9219)   \rremote: Total 9219 (delta 0), reused 0 (delta 0), pack-reused 9219\u001b[K\n",
            "Receiving objects:  99% (9127/9219)   \rReceiving objects: 100% (9219/9219)   \rReceiving objects: 100% (9219/9219), 3.70 MiB | 19.31 MiB/s, done.\n",
            "Resolving deltas:   0% (0/6247)   \rResolving deltas:   1% (63/6247)   \rResolving deltas:   2% (139/6247)   \rResolving deltas:   3% (200/6247)   \rResolving deltas:   4% (258/6247)   \rResolving deltas:   5% (327/6247)   \rResolving deltas:   6% (400/6247)   \rResolving deltas:   7% (445/6247)   \rResolving deltas:   8% (505/6247)   \rResolving deltas:   9% (569/6247)   \rResolving deltas:  10% (626/6247)   \rResolving deltas:  11% (692/6247)   \rResolving deltas:  12% (752/6247)   \rResolving deltas:  13% (819/6247)   \rResolving deltas:  14% (875/6247)   \rResolving deltas:  15% (949/6247)   \rResolving deltas:  16% (1005/6247)   \rResolving deltas:  17% (1062/6247)   \rResolving deltas:  18% (1127/6247)   \rResolving deltas:  19% (1215/6247)   \rResolving deltas:  20% (1255/6247)   \rResolving deltas:  21% (1313/6247)   \rResolving deltas:  22% (1375/6247)   \rResolving deltas:  23% (1437/6247)   \rResolving deltas:  24% (1501/6247)   \rResolving deltas:  25% (1563/6247)   \rResolving deltas:  26% (1628/6247)   \rResolving deltas:  27% (1693/6247)   \rResolving deltas:  28% (1759/6247)   \rResolving deltas:  29% (1823/6247)   \rResolving deltas:  30% (1878/6247)   \rResolving deltas:  31% (1937/6247)   \rResolving deltas:  32% (2003/6247)   \rResolving deltas:  33% (2095/6247)   \rResolving deltas:  34% (2128/6247)   \rResolving deltas:  35% (2189/6247)   \rResolving deltas:  36% (2252/6247)   \rResolving deltas:  37% (2324/6247)   \rResolving deltas:  38% (2393/6247)   \rResolving deltas:  39% (2438/6247)   \rResolving deltas:  40% (2501/6247)   \rResolving deltas:  41% (2569/6247)   \rResolving deltas:  43% (2736/6247)   \rResolving deltas:  44% (2749/6247)   \rResolving deltas:  45% (2851/6247)   \rResolving deltas:  46% (2876/6247)   \rResolving deltas:  48% (3015/6247)   \rResolving deltas:  49% (3071/6247)   \rResolving deltas:  50% (3148/6247)   \rResolving deltas:  51% (3196/6247)   \rResolving deltas:  52% (3302/6247)   \rResolving deltas:  53% (3346/6247)   \rResolving deltas:  54% (3374/6247)   \rResolving deltas:  55% (3492/6247)   \rResolving deltas:  56% (3512/6247)   \rResolving deltas:  57% (3568/6247)   \rResolving deltas:  60% (3778/6247)   \rResolving deltas:  61% (3811/6247)   \rResolving deltas:  62% (3876/6247)   \rResolving deltas:  63% (3998/6247)   \rResolving deltas:  64% (4036/6247)   \rResolving deltas:  65% (4073/6247)   \rResolving deltas:  67% (4187/6247)   \rResolving deltas:  68% (4256/6247)   \rResolving deltas:  69% (4322/6247)   \rResolving deltas:  70% (4379/6247)   \rResolving deltas:  71% (4473/6247)   \rResolving deltas:  72% (4513/6247)   \rResolving deltas:  73% (4566/6247)   \rResolving deltas:  74% (4664/6247)   \rResolving deltas:  75% (4699/6247)   \rResolving deltas:  76% (4789/6247)   \rResolving deltas:  77% (4855/6247)   \rResolving deltas:  78% (4919/6247)   \rResolving deltas:  79% (4970/6247)   \rResolving deltas:  80% (5002/6247)   \rResolving deltas:  81% (5064/6247)   \rResolving deltas:  82% (5131/6247)   \rResolving deltas:  83% (5190/6247)   \rResolving deltas:  84% (5250/6247)   \rResolving deltas:  85% (5323/6247)   \rResolving deltas:  86% (5401/6247)   \rResolving deltas:  87% (5443/6247)   \rResolving deltas:  88% (5498/6247)   \rResolving deltas:  89% (5579/6247)   \rResolving deltas:  90% (5624/6247)   \rResolving deltas:  91% (5688/6247)   \rResolving deltas:  92% (5754/6247)   \rResolving deltas:  93% (5837/6247)   \rResolving deltas:  96% (6003/6247)   \rResolving deltas:  97% (6068/6247)   \rResolving deltas:  98% (6124/6247)   \rResolving deltas:  99% (6189/6247)   \rResolving deltas: 100% (6247/6247)   \rResolving deltas: 100% (6247/6247), done.\n",
            "/content/gym\n",
            "Obtaining file:///content/gym\n",
            "Requirement already satisfied: scipy in /usr/local/lib/python3.6/dist-packages (from gym==0.12.1) (1.1.0)\n",
            "Requirement already satisfied: numpy>=1.10.4 in /usr/local/lib/python3.6/dist-packages (from gym==0.12.1) (1.14.6)\n",
            "Requirement already satisfied: requests>=2.0 in /usr/local/lib/python3.6/dist-packages (from gym==0.12.1) (2.18.4)\n",
            "Requirement already satisfied: six in /usr/local/lib/python3.6/dist-packages (from gym==0.12.1) (1.11.0)\n",
            "Requirement already satisfied: pyglet>=1.2.0 in /usr/local/lib/python3.6/dist-packages (from gym==0.12.1) (1.3.2)\n",
            "Requirement already satisfied: idna<2.7,>=2.5 in /usr/local/lib/python3.6/dist-packages (from requests>=2.0->gym==0.12.1) (2.6)\n",
            "Requirement already satisfied: urllib3<1.23,>=1.21.1 in /usr/local/lib/python3.6/dist-packages (from requests>=2.0->gym==0.12.1) (1.22)\n",
            "Requirement already satisfied: chardet<3.1.0,>=3.0.2 in /usr/local/lib/python3.6/dist-packages (from requests>=2.0->gym==0.12.1) (3.0.4)\n",
            "Requirement already satisfied: certifi>=2017.4.17 in /usr/local/lib/python3.6/dist-packages (from requests>=2.0->gym==0.12.1) (2019.3.9)\n",
            "Requirement already satisfied: future in /usr/local/lib/python3.6/dist-packages (from pyglet>=1.2.0->gym==0.12.1) (0.16.0)\n",
            "Installing collected packages: gym\n",
            "  Found existing installation: gym 0.10.11\n",
            "    Uninstalling gym-0.10.11:\n",
            "      Successfully uninstalled gym-0.10.11\n",
            "  Running setup.py develop for gym\n",
            "Successfully installed gym\n"
          ],
          "name": "stdout"
        }
      ]
    },
    {
      "metadata": {
        "colab_type": "code",
        "outputId": "48009118-d917-492e-85e4-eb7dd2b746a7",
        "id": "S7bJ2DaM6ohY",
        "colab": {
          "base_uri": "https://localhost:8080/",
          "height": 445
        }
      },
      "cell_type": "code",
      "source": [
        "%cd /content/gym/\n",
        "\n",
        "!ls\n",
        "\n",
        "!pip install -e ."
      ],
      "execution_count": 19,
      "outputs": [
        {
          "output_type": "stream",
          "text": [
            "/content/gym\n",
            "bin\t\t     Makefile\t\t    test.dockerfile.16.04\n",
            "CODE_OF_CONDUCT.rst  README.rst\t\t    test.dockerfile.18.04\n",
            "docs\t\t     requirements_dev.txt   tox.ini\n",
            "examples\t     requirements.txt\t    unittest.cfg\n",
            "gym\t\t     scripts\t\t    vendor\n",
            "gym.egg-info\t     setup.py\n",
            "LICENSE.md\t     test.dockerfile.14.04\n",
            "Obtaining file:///content/gym\n",
            "Requirement already satisfied: scipy in /usr/local/lib/python3.6/dist-packages (from gym==0.12.1) (1.1.0)\n",
            "Requirement already satisfied: numpy>=1.10.4 in /usr/local/lib/python3.6/dist-packages (from gym==0.12.1) (1.14.6)\n",
            "Requirement already satisfied: requests>=2.0 in /usr/local/lib/python3.6/dist-packages (from gym==0.12.1) (2.18.4)\n",
            "Requirement already satisfied: six in /usr/local/lib/python3.6/dist-packages (from gym==0.12.1) (1.11.0)\n",
            "Requirement already satisfied: pyglet>=1.2.0 in /usr/local/lib/python3.6/dist-packages (from gym==0.12.1) (1.3.2)\n",
            "Requirement already satisfied: chardet<3.1.0,>=3.0.2 in /usr/local/lib/python3.6/dist-packages (from requests>=2.0->gym==0.12.1) (3.0.4)\n",
            "Requirement already satisfied: urllib3<1.23,>=1.21.1 in /usr/local/lib/python3.6/dist-packages (from requests>=2.0->gym==0.12.1) (1.22)\n",
            "Requirement already satisfied: certifi>=2017.4.17 in /usr/local/lib/python3.6/dist-packages (from requests>=2.0->gym==0.12.1) (2019.3.9)\n",
            "Requirement already satisfied: idna<2.7,>=2.5 in /usr/local/lib/python3.6/dist-packages (from requests>=2.0->gym==0.12.1) (2.6)\n",
            "Requirement already satisfied: future in /usr/local/lib/python3.6/dist-packages (from pyglet>=1.2.0->gym==0.12.1) (0.16.0)\n",
            "Installing collected packages: gym\n",
            "  Found existing installation: gym 0.12.1\n",
            "    Can't uninstall 'gym'. No files were found to uninstall.\n",
            "  Running setup.py develop for gym\n",
            "Successfully installed gym\n"
          ],
          "name": "stdout"
        }
      ]
    },
    {
      "metadata": {
        "id": "QmOHMxwp5Awt",
        "colab_type": "code",
        "colab": {
          "base_uri": "https://localhost:8080/",
          "height": 700
        },
        "outputId": "2aa29316-fd1a-42f0-af22-24e97ff36bed"
      },
      "cell_type": "code",
      "source": [
        "!pip install gym[all]"
      ],
      "execution_count": 20,
      "outputs": [
        {
          "output_type": "stream",
          "text": [
            "Requirement already satisfied: gym[all] in /content/gym (0.12.1)\n",
            "Requirement already satisfied: scipy in /usr/local/lib/python3.6/dist-packages (from gym[all]) (1.1.0)\n",
            "Requirement already satisfied: numpy>=1.10.4 in /usr/local/lib/python3.6/dist-packages (from gym[all]) (1.14.6)\n",
            "Requirement already satisfied: requests>=2.0 in /usr/local/lib/python3.6/dist-packages (from gym[all]) (2.18.4)\n",
            "Requirement already satisfied: six in /usr/local/lib/python3.6/dist-packages (from gym[all]) (1.11.0)\n",
            "Requirement already satisfied: pyglet>=1.2.0 in /usr/local/lib/python3.6/dist-packages (from gym[all]) (1.3.2)\n",
            "Requirement already satisfied: atari_py>=0.1.4 in /usr/local/lib/python3.6/dist-packages (from gym[all]) (0.1.7)\n",
            "Requirement already satisfied: Pillow in /usr/local/lib/python3.6/dist-packages (from gym[all]) (5.4.1)\n",
            "Requirement already satisfied: PyOpenGL in /usr/local/lib/python3.6/dist-packages (from gym[all]) (3.1.0)\n",
            "Collecting box2d-py>=2.3.5 (from gym[all])\n",
            "\u001b[?25l  Downloading https://files.pythonhosted.org/packages/06/bd/6cdc3fd994b0649dcf5d9bad85bd9e26172308bbe9a421bfc6fdbf5081a6/box2d_py-2.3.8-cp36-cp36m-manylinux1_x86_64.whl (448kB)\n",
            "\r\u001b[K    2% |▊                               | 10kB 12.7MB/s eta 0:00:01\r\u001b[K    4% |█▌                              | 20kB 2.3MB/s eta 0:00:01\r\u001b[K    6% |██▏                             | 30kB 3.3MB/s eta 0:00:01\r\u001b[K    9% |███                             | 40kB 2.1MB/s eta 0:00:01\r\u001b[K    11% |███▋                            | 51kB 2.6MB/s eta 0:00:01\r\u001b[K    13% |████▍                           | 61kB 3.1MB/s eta 0:00:01\r\u001b[K    15% |█████▏                          | 71kB 3.6MB/s eta 0:00:01\r\u001b[K    18% |█████▉                          | 81kB 4.1MB/s eta 0:00:01\r\u001b[K    20% |██████▋                         | 92kB 4.5MB/s eta 0:00:01\r\u001b[K    22% |███████▎                        | 102kB 3.5MB/s eta 0:00:01\r\u001b[K    25% |████████                        | 112kB 3.6MB/s eta 0:00:01\r\u001b[K    27% |████████▊                       | 122kB 5.0MB/s eta 0:00:01\r\u001b[K    29% |█████████▌                      | 133kB 4.9MB/s eta 0:00:01\r\u001b[K    31% |██████████▎                     | 143kB 9.3MB/s eta 0:00:01\r\u001b[K    34% |███████████                     | 153kB 9.4MB/s eta 0:00:01\r\u001b[K    36% |███████████▊                    | 163kB 9.3MB/s eta 0:00:01\r\u001b[K    38% |████████████▍                   | 174kB 9.3MB/s eta 0:00:01\r\u001b[K    41% |█████████████▏                  | 184kB 9.4MB/s eta 0:00:01\r\u001b[K    43% |█████████████▉                  | 194kB 9.4MB/s eta 0:00:01\r\u001b[K    45% |██████████████▋                 | 204kB 41.5MB/s eta 0:00:01\r\u001b[K    47% |███████████████▍                | 215kB 10.6MB/s eta 0:00:01\r\u001b[K    50% |████████████████                | 225kB 10.6MB/s eta 0:00:01\r\u001b[K    52% |████████████████▉               | 235kB 10.6MB/s eta 0:00:01\r\u001b[K    54% |█████████████████▌              | 245kB 10.6MB/s eta 0:00:01\r\u001b[K    57% |██████████████████▎             | 256kB 10.6MB/s eta 0:00:01\r\u001b[K    59% |███████████████████             | 266kB 10.3MB/s eta 0:00:01\r\u001b[K    61% |███████████████████▊            | 276kB 10.6MB/s eta 0:00:01\r\u001b[K    63% |████████████████████▌           | 286kB 10.6MB/s eta 0:00:01\r\u001b[K    66% |█████████████████████▏          | 296kB 10.5MB/s eta 0:00:01\r\u001b[K    68% |██████████████████████          | 307kB 10.8MB/s eta 0:00:01\r\u001b[K    70% |██████████████████████▋         | 317kB 45.8MB/s eta 0:00:01\r\u001b[K    73% |███████████████████████▍        | 327kB 46.7MB/s eta 0:00:01\r\u001b[K    75% |████████████████████████        | 337kB 49.3MB/s eta 0:00:01\r\u001b[K    77% |████████████████████████▉       | 348kB 44.9MB/s eta 0:00:01\r\u001b[K    79% |█████████████████████████▋      | 358kB 44.8MB/s eta 0:00:01\r\u001b[K    82% |██████████████████████████▎     | 368kB 50.9MB/s eta 0:00:01\r\u001b[K    84% |███████████████████████████     | 378kB 50.7MB/s eta 0:00:01\r\u001b[K    86% |███████████████████████████▊    | 389kB 51.2MB/s eta 0:00:01\r\u001b[K    89% |████████████████████████████▌   | 399kB 12.5MB/s eta 0:00:01\r\u001b[K    91% |█████████████████████████████▏  | 409kB 12.5MB/s eta 0:00:01\r\u001b[K    93% |██████████████████████████████  | 419kB 12.5MB/s eta 0:00:01\r\u001b[K    95% |██████████████████████████████▊ | 430kB 12.5MB/s eta 0:00:01\r\u001b[K    98% |███████████████████████████████▍| 440kB 12.4MB/s eta 0:00:01\r\u001b[K    100% |████████████████████████████████| 450kB 10.2MB/s \n",
            "\u001b[?25hCollecting mujoco_py<2.1,>=1.50 (from gym[all])\n",
            "\u001b[?25l  Downloading https://files.pythonhosted.org/packages/9e/ea/3fa08305b80346a787bae7b45eaa8e11d4187f85e012b95ad7bcd97f8336/mujoco-py-2.0.2.0.tar.gz (759kB)\n",
            "\u001b[K    100% |████████████████████████████████| 768kB 25.6MB/s \n",
            "\u001b[?25hRequirement already satisfied: imageio in /usr/local/lib/python3.6/dist-packages (from gym[all]) (2.4.1)\n",
            "Requirement already satisfied: idna<2.7,>=2.5 in /usr/local/lib/python3.6/dist-packages (from requests>=2.0->gym[all]) (2.6)\n",
            "Requirement already satisfied: urllib3<1.23,>=1.21.1 in /usr/local/lib/python3.6/dist-packages (from requests>=2.0->gym[all]) (1.22)\n",
            "Requirement already satisfied: chardet<3.1.0,>=3.0.2 in /usr/local/lib/python3.6/dist-packages (from requests>=2.0->gym[all]) (3.0.4)\n",
            "Requirement already satisfied: certifi>=2017.4.17 in /usr/local/lib/python3.6/dist-packages (from requests>=2.0->gym[all]) (2019.3.9)\n",
            "Requirement already satisfied: future in /usr/local/lib/python3.6/dist-packages (from pyglet>=1.2.0->gym[all]) (0.16.0)\n",
            "Collecting glfw>=1.4.0 (from mujoco_py<2.1,>=1.50->gym[all])\n",
            "  Downloading https://files.pythonhosted.org/packages/5d/65/c6275744a01425195f1f446e022e5dfa6497aa68479a3952e434e04b2fa0/glfw-1.7.1.tar.gz\n",
            "Requirement already satisfied: Cython>=0.27.2 in /usr/local/lib/python3.6/dist-packages (from mujoco_py<2.1,>=1.50->gym[all]) (0.29.6)\n",
            "Requirement already satisfied: cffi>=1.10 in /usr/local/lib/python3.6/dist-packages (from mujoco_py<2.1,>=1.50->gym[all]) (1.12.2)\n",
            "Collecting lockfile>=0.12.2 (from mujoco_py<2.1,>=1.50->gym[all])\n",
            "  Downloading https://files.pythonhosted.org/packages/c8/22/9460e311f340cb62d26a38c419b1381b8593b0bb6b5d1f056938b086d362/lockfile-0.12.2-py2.py3-none-any.whl\n",
            "Requirement already satisfied: pycparser in /usr/local/lib/python3.6/dist-packages (from cffi>=1.10->mujoco_py<2.1,>=1.50->gym[all]) (2.19)\n",
            "Building wheels for collected packages: mujoco-py, glfw\n",
            "  Building wheel for mujoco-py (setup.py) ... \u001b[?25lerror\n",
            "\u001b[31m  Failed building wheel for mujoco-py\u001b[0m\n",
            "\u001b[?25h  Running setup.py clean for mujoco-py\n",
            "  Building wheel for glfw (setup.py) ... \u001b[?25ldone\n",
            "\u001b[?25h  Stored in directory: /root/.cache/pip/wheels/c5/53/f9/fd31798dce7e10aa49f8354e4111b9c9cad10c894184658663\n",
            "Successfully built glfw\n",
            "Failed to build mujoco-py\n",
            "Installing collected packages: box2d-py, glfw, lockfile, mujoco-py\n",
            "  Running setup.py install for mujoco-py ... \u001b[?25lerror\n",
            "\u001b[31mCommand \"/usr/bin/python3 -u -c \"import setuptools, tokenize;__file__='/tmp/pip-install-0ad_x5z_/mujoco-py/setup.py';f=getattr(tokenize, 'open', open)(__file__);code=f.read().replace('\\r\\n', '\\n');f.close();exec(compile(code, __file__, 'exec'))\" install --record /tmp/pip-record-ukey0dgm/install-record.txt --single-version-externally-managed --compile\" failed with error code 1 in /tmp/pip-install-0ad_x5z_/mujoco-py/\u001b[0m\n",
            "\u001b[?25h"
          ],
          "name": "stdout"
        }
      ]
    },
    {
      "metadata": {
        "id": "96skXVRxxzXa",
        "colab_type": "code",
        "colab": {}
      },
      "cell_type": "code",
      "source": [
        "import gym\n",
        "env = gym.make(\"\")\n",
        "\n",
        "#plt.imshow(env.render('rgb_array'))\n",
        "\n",
        "#env.render('rgb_array')\n",
        "\n",
        "\n",
        "#print(\"Observation space:\", env.observation_space)\n",
        "#print(\"Action space:\", env.action_space)"
      ],
      "execution_count": 0,
      "outputs": []
    },
    {
      "metadata": {
        "id": "rFEiu1pt01Fp",
        "colab_type": "text"
      },
      "cell_type": "markdown",
      "source": [
        "### Specific Env"
      ]
    },
    {
      "metadata": {
        "id": "FDXg-BFl05tc",
        "colab_type": "text"
      },
      "cell_type": "markdown",
      "source": [
        "#####Atari"
      ]
    },
    {
      "metadata": {
        "id": "cjG8KUON0Po7",
        "colab_type": "code",
        "colab": {
          "base_uri": "https://localhost:8080/",
          "height": 102
        },
        "outputId": "1e5bba20-9ce2-4ab5-e059-7dcc7bf895c8"
      },
      "cell_type": "code",
      "source": [
        "# for installing specific envirnments\n",
        "\n",
        "%cd /content/gym/gym/envs/\n",
        "\n",
        "!ls\n",
        "\n",
        "!python __init__.py.\n",
        "\n",
        "!pip install -e '.[atari]'\n",
        "\n"
      ],
      "execution_count": 52,
      "outputs": [
        {
          "output_type": "stream",
          "text": [
            "/content/gym/gym/envs\n",
            "algorithmic  box2d\t      __init__.py  README.md\t    robotics  toy_text\n",
            "atari\t     classic_control  mujoco\t   registration.py  tests     unittest\n",
            "python3: can't open file '__init__.py.': [Errno 2] No such file or directory\n",
            "\u001b[31mFile \"setup.py\" not found. Directory cannot be installed in editable mode: /content/gym/gym/envs\u001b[0m\n"
          ],
          "name": "stdout"
        }
      ]
    },
    {
      "metadata": {
        "id": "hXm3IiHL0pcV",
        "colab_type": "code",
        "colab": {
          "base_uri": "https://localhost:8080/",
          "height": 286
        },
        "outputId": "3e13571c-3d89-46eb-8462-22660a988279"
      },
      "cell_type": "code",
      "source": [
        "import gym\n",
        "env = gym.make('SpaceInvaders-v0')\n",
        "env.reset()\n",
        "\n",
        "\n",
        "plt.imshow(env.render('rgb_array'))\n"
      ],
      "execution_count": 21,
      "outputs": [
        {
          "output_type": "execute_result",
          "data": {
            "text/plain": [
              "<matplotlib.image.AxesImage at 0x7f5d076b8fd0>"
            ]
          },
          "metadata": {
            "tags": []
          },
          "execution_count": 21
        },
        {
          "output_type": "display_data",
          "data": {
            "image/png": "[encoded data removed]",
            "text/plain": [
              "<Figure size 432x288 with 1 Axes>"
            ]
          },
          "metadata": {
            "tags": []
          }
        }
      ]
    },
    {
      "metadata": {
        "id": "gSHkg3l00_zO",
        "colab_type": "code",
        "colab": {}
      },
      "cell_type": "code",
      "source": [
        ""
      ],
      "execution_count": 0,
      "outputs": []
    },
    {
      "metadata": {
        "colab_type": "text",
        "id": "dokigMzH1ASU"
      },
      "cell_type": "markdown",
      "source": [
        "#####Box2d"
      ]
    },
    {
      "metadata": {
        "colab_type": "code",
        "outputId": "6c340d45-fd70-41f5-fc46-cb03fbb5a1cd",
        "id": "084seLlH1ASW",
        "colab": {
          "base_uri": "https://localhost:8080/",
          "height": 51
        }
      },
      "cell_type": "code",
      "source": [
        "# for installing specific envirnments\n",
        "\n",
        "%cd  /content/\n",
        "\n",
        "!ls\n",
        "\n",
        "\n"
      ],
      "execution_count": 42,
      "outputs": [
        {
          "output_type": "stream",
          "text": [
            "/content\n",
            "adc.json  gdrive  gym  sample_data\n"
          ],
          "name": "stdout"
        }
      ]
    },
    {
      "metadata": {
        "colab_type": "code",
        "outputId": "74ad681e-178f-4512-d438-ecfbe99d9158",
        "id": "gI7n_gIo1ASa",
        "colab": {
          "base_uri": "https://localhost:8080/",
          "height": 286
        }
      },
      "cell_type": "code",
      "source": [
        "env2 = gym.make('LunarLander-v2')\n",
        "env2.reset()\n",
        "\n",
        "\n",
        "plt.imshow(env2.render('rgb_array'))\n"
      ],
      "execution_count": 22,
      "outputs": [
        {
          "output_type": "execute_result",
          "data": {
            "text/plain": [
              "<matplotlib.image.AxesImage at 0x7f5cf99d3e80>"
            ]
          },
          "metadata": {
            "tags": []
          },
          "execution_count": 22
        },
        {
          "output_type": "display_data",
          "data": {
            "image/png": "[encoded data removed]",
            "text/plain": [
              "<Figure size 432x288 with 1 Axes>"
            ]
          },
          "metadata": {
            "tags": []
          }
        }
      ]
    },
    {
      "metadata": {
        "id": "Ft4WcnXK0_Xi",
        "colab_type": "text"
      },
      "cell_type": "markdown",
      "source": [
        "#Intial Code for Rl ifrom uidacity Github Method2"
      ]
    },
    {
      "metadata": {
        "id": "UUCFToHF8CLN",
        "colab_type": "code",
        "colab": {}
      },
      "cell_type": "code",
      "source": [
        "!pip install gym pyvirtualdisplay > /dev/null 2>&1\n",
        "!apt-get install -y xvfb python-opengl ffmpeg > /dev/null 2>&1"
      ],
      "execution_count": 0,
      "outputs": []
    },
    {
      "metadata": {
        "id": "KVYmmyJH8XbP",
        "colab_type": "code",
        "colab": {}
      },
      "cell_type": "code",
      "source": [
        "import gym\n",
        "from gym import logger as gymlogger\n",
        "from gym.wrappers import Monitor\n",
        "gymlogger.set_level(40) #error only\n",
        "\n",
        "import math\n",
        "import glob\n",
        "import io\n",
        "import base64\n",
        "import IPython\n",
        "from IPython.display import HTML"
      ],
      "execution_count": 0,
      "outputs": []
    },
    {
      "metadata": {
        "id": "lHtrfaVZ8f28",
        "colab_type": "code",
        "colab": {
          "base_uri": "https://localhost:8080/",
          "height": 54
        },
        "outputId": "1f838202-e1da-413c-d9d0-cae7a0823b50"
      },
      "cell_type": "code",
      "source": [
        "#eg screen resolution 1400x900\n",
        "\n",
        "from pyvirtualdisplay import Display\n",
        "display = Display(visible=0, size=(1400, 900))\n",
        "display.start()"
      ],
      "execution_count": 9,
      "outputs": [
        {
          "output_type": "execute_result",
          "data": {
            "text/plain": [
              "<Display cmd_param=['Xvfb', '-br', '-nolisten', 'tcp', '-screen', '0', '1400x900x24', ':1001'] cmd=['Xvfb', '-br', '-nolisten', 'tcp', '-screen', '0', '1400x900x24', ':1001'] oserror=None return_code=None stdout=\"None\" stderr=\"None\" timeout_happened=False>"
            ]
          },
          "metadata": {
            "tags": []
          },
          "execution_count": 9
        }
      ]
    },
    {
      "metadata": {
        "id": "a7oq0K7F8iw6",
        "colab_type": "code",
        "colab": {}
      },
      "cell_type": "code",
      "source": [
        "def show_video():\n",
        "  mp4list = glob.glob('video/*.mp4')\n",
        "  if len(mp4list) > 0:\n",
        "    mp4 = mp4list[0]\n",
        "    video = io.open(mp4, 'r+b').read()\n",
        "    encoded = base64.b64encode(video)\n",
        "    IPython.display(HTML(data='''<video alt=\"test\" autoplay \n",
        "                loop controls style=\"height: 400px;\">\n",
        "                <source src=\"data:video/mp4;base64,{0}\" type=\"video/mp4\" />\n",
        "                </video>'''.format(encoded.decode('ascii'))))\n",
        "  else: \n",
        "    print(\"Could not find video\")"
      ],
      "execution_count": 0,
      "outputs": []
    },
    {
      "metadata": {
        "id": "hP78sUE98pWR",
        "colab_type": "code",
        "colab": {}
      },
      "cell_type": "code",
      "source": [
        "def wrap_env(env):\n",
        "  env = Monitor(env, './video', force=True)\n",
        "  return env"
      ],
      "execution_count": 0,
      "outputs": []
    },
    {
      "metadata": {
        "id": "qxTar70Q8tkl",
        "colab_type": "code",
        "colab": {}
      },
      "cell_type": "code",
      "source": [
        ""
      ],
      "execution_count": 0,
      "outputs": []
    },
    {
      "metadata": {
        "id": "JzHpPzMw8uLm",
        "colab_type": "code",
        "colab": {}
      },
      "cell_type": "code",
      "source": [
        "#Now, in your OpenAi gym code, where you would have usually declared what environment you are using we need\n",
        "#to “wrap” that environment using the wrap_env function that we declared above.\n",
        "\n",
        "#Where ENV_NAME is the environment that are using from Gym, eg 'CartPole-v0'\n",
        "\n",
        "env = wrap_env(gym.make(ENV_NAME)) #wrapping the env to render as a video\n",
        "\n",
        "#Don’t forget to call env.render() at some point during the training phase of your algorithm so that Gym itself\n",
        "#enters “render mode”.\n",
        "\n",
        "#Finally, right at the end of your algorithm we need to call our second helper function “show_video” to show\n",
        "#our stacked frames using this method & render our environment.\n",
        "\n",
        "\n",
        "show_video()\n"
      ],
      "execution_count": 0,
      "outputs": []
    },
    {
      "metadata": {
        "id": "yG4zVHoD896V",
        "colab_type": "code",
        "colab": {}
      },
      "cell_type": "code",
      "source": [
        ""
      ],
      "execution_count": 0,
      "outputs": []
    },
    {
      "metadata": {
        "id": "dvYs50Dc981J",
        "colab_type": "text"
      },
      "cell_type": "markdown",
      "source": [
        "###specific env"
      ]
    },
    {
      "metadata": {
        "id": "fmpOl-d9BD35",
        "colab_type": "code",
        "colab": {}
      },
      "cell_type": "code",
      "source": [
        "from IPython import display as ipythondisplay"
      ],
      "execution_count": 0,
      "outputs": []
    },
    {
      "metadata": {
        "id": "TCelFzWY9MBI",
        "colab_type": "code",
        "colab": {
          "base_uri": "https://localhost:8080/",
          "height": 34
        },
        "outputId": "8f47293f-7167-4322-f189-305b2d4e374b"
      },
      "cell_type": "code",
      "source": [
        "!apt-get update > /dev/null 2>&1\n",
        "!apt-get install cmake > /dev/null 2>&1\n",
        "!pip install --upgrade setuptools 2>&1\n",
        "!pip install ez_setup > /dev/null 2>&1\n",
        "!pip install gym[atari] > /dev/null 2>&1"
      ],
      "execution_count": 30,
      "outputs": [
        {
          "output_type": "stream",
          "text": [
            "Requirement already up-to-date: setuptools in /usr/local/lib/python3.6/dist-packages (40.8.0)\n"
          ],
          "name": "stdout"
        }
      ]
    },
    {
      "metadata": {
        "id": "G9UWeToN4r7D",
        "colab_type": "code",
        "colab": {}
      },
      "cell_type": "code",
      "source": [
        "\"\"\"\n",
        "Utility functions to enable video recording of gym environment and displaying it\n",
        "To enable video, just do \"env = wrap_env(env)\"\"\n",
        "\"\"\"\n",
        "\n",
        "def show_video():\n",
        "  mp4list = glob.glob('video/*.mp4')\n",
        "  if len(mp4list) > 0:\n",
        "    mp4 = mp4list[0]\n",
        "    video = io.open(mp4, 'r+b').read()\n",
        "    encoded = base64.b64encode(video)\n",
        "    ipythondisplay.display(HTML(data='''<video alt=\"test\" autoplay \n",
        "                loop controls style=\"height: 400px;\">\n",
        "                <source src=\"data:video/mp4;base64,{0}\" type=\"video/mp4\" />\n",
        "             </video>'''.format(encoded.decode('ascii'))))\n",
        "  else: \n",
        "    print(\"Could not find video\")\n",
        "    \n",
        "\n",
        "def wrap_env(env):\n",
        "  env = Monitor(env, './video', force=True)\n",
        "  return env"
      ],
      "execution_count": 0,
      "outputs": []
    },
    {
      "metadata": {
        "id": "W3BGbWOu179M",
        "colab_type": "text"
      },
      "cell_type": "markdown",
      "source": [
        "## Pacman!"
      ]
    },
    {
      "metadata": {
        "id": "dGEFMfDOzLen",
        "colab_type": "code",
        "colab": {}
      },
      "cell_type": "code",
      "source": [
        "env = wrap_env(gym.make(\"MsPacman-v0\"))"
      ],
      "execution_count": 0,
      "outputs": []
    },
    {
      "metadata": {
        "id": "7BmIlXhe9Q89",
        "colab_type": "code",
        "colab": {
          "base_uri": "https://localhost:8080/",
          "height": 34
        },
        "outputId": "c39f8013-7120-473b-dd42-d3b064e3e2f6"
      },
      "cell_type": "code",
      "source": [
        "#check out the pacman action space!\n",
        "print(env.action_space)"
      ],
      "execution_count": 38,
      "outputs": [
        {
          "output_type": "stream",
          "text": [
            "Discrete(9)\n"
          ],
          "name": "stdout"
        }
      ]
    },
    {
      "metadata": {
        "id": "8nj5sjsk15IT",
        "colab_type": "code",
        "colab": {
          "base_uri": "https://localhost:8080/",
          "height": 421
        },
        "outputId": "a840c2a4-fc53-4c45-f31b-ad77fe65ab01"
      },
      "cell_type": "code",
      "source": [
        "observation = env.reset()\n",
        "\n",
        "while True:\n",
        "  \n",
        "    env.render()\n",
        "    \n",
        "    #your agent goes here\n",
        "    action = env.action_space.sample() \n",
        "         \n",
        "    observation, reward, done, info = env.step(action) \n",
        "   \n",
        "        \n",
        "    if done: \n",
        "      break;\n",
        "            \n",
        "env.close()\n",
        "show_video()"
      ],
      "execution_count": 39,
      "outputs": [
        {
          "output_type": "display_data",
          "data": {
            "text/html": [
              "<video alt=\"test\" autoplay \n",
              "                loop controls style=\"height: 400px;\">\n",
              "                <source src=\"data:video/mp4;base64,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\" type=\"video/mp4\" />\n",
              "             </video>"
            ],
            "text/plain": [
              "<IPython.core.display.HTML object>"
            ]
          },
          "metadata": {
            "tags": []
          }
        }
      ]
    },
    {
      "metadata": {
        "id": "_mlC5LrqBrud",
        "colab_type": "text"
      },
      "cell_type": "markdown",
      "source": [
        "### other test yet to be performed"
      ]
    },
    {
      "metadata": {
        "id": "bpJQojK0-AVi",
        "colab_type": "code",
        "colab": {
          "base_uri": "https://localhost:8080/",
          "height": 286
        },
        "outputId": "a2b24478-5a21-4d4b-e1a6-3526a16e4ec6"
      },
      "cell_type": "code",
      "source": [
        "env2 =  wrap_env(gym.make('SpaceInvaders-v0')) #wrapping the env to render as a video\n",
        "\n",
        "env2.reset()\n",
        "\n",
        "\n",
        "plt.imshow(env2.render('rgb_array'))"
      ],
      "execution_count": 40,
      "outputs": [
        {
          "output_type": "execute_result",
          "data": {
            "text/plain": [
              "<matplotlib.image.AxesImage at 0x7fc804510198>"
            ]
          },
          "metadata": {
            "tags": []
          },
          "execution_count": 40
        },
        {
          "output_type": "display_data",
          "data": {
            "image/png": "[encoded data removed]",
            "text/plain": [
              "<Figure size 432x288 with 1 Axes>"
            ]
          },
          "metadata": {
            "tags": []
          }
        }
      ]
    },
    {
      "metadata": {
        "id": "9OOolhow-sHd",
        "colab_type": "code",
        "colab": {
          "base_uri": "https://localhost:8080/",
          "height": 421
        },
        "outputId": "061bdc40-2fbc-4506-dd56-7eb8fe26b58d"
      },
      "cell_type": "code",
      "source": [
        "show_video()\n",
        "\n"
      ],
      "execution_count": 41,
      "outputs": [
        {
          "output_type": "display_data",
          "data": {
            "text/html": [
              "<video alt=\"test\" autoplay \n",
              "                loop controls style=\"height: 400px;\">\n",
              "                <source src=\"data:video/mp4;base64,\" type=\"video/mp4\" />\n",
              "             </video>"
            ],
            "text/plain": [
              "<IPython.core.display.HTML object>"
            ]
          },
          "metadata": {
            "tags": []
          }
        }
      ]
    },
    {
      "metadata": {
        "id": "7n91JLuF-vxC",
        "colab_type": "code",
        "colab": {}
      },
      "cell_type": "code",
      "source": [
        ""
      ],
      "execution_count": 0,
      "outputs": []
    }
  ]
}